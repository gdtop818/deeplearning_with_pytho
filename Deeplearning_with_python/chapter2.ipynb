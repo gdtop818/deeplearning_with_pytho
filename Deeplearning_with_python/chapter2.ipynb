{
 "cells": [
  {
   "cell_type": "markdown",
   "metadata": {},
   "source": [
    "# 第2章 神经网络的数据基础\n",
    "## 2.1 初始神经网络 "
   ]
  },
  {
   "cell_type": "code",
   "execution_count": 14,
   "metadata": {
    "collapsed": false
   },
   "outputs": [],
   "source": [
    "# 2-1 加载Keras中的MNIST数据集\n",
    "from keras.datasets import mnist\n",
    "\n",
    "(train_images, train_labels), (test_images, test_labels) = mnist.load_data()"
   ]
  },
  {
   "cell_type": "code",
   "execution_count": 15,
   "metadata": {
    "collapsed": false
   },
   "outputs": [
    {
     "name": "stdout",
     "output_type": "stream",
     "text": [
      "(60000, 28, 28)\n",
      "60000\n",
      "[5 0 4 ... 5 6 8]\n"
     ]
    }
   ],
   "source": [
    "print(train_images.shape)\n",
    "print(len(train_labels))\n",
    "print(train_labels)"
   ]
  },
  {
   "cell_type": "code",
   "execution_count": 16,
   "metadata": {
    "collapsed": false
   },
   "outputs": [
    {
     "name": "stdout",
     "output_type": "stream",
     "text": [
      "(10000, 28, 28)\n",
      "10000\n",
      "[5 0 4 ... 5 6 8]\n"
     ]
    }
   ],
   "source": [
    "print(test_images.shape)\n",
    "print(len(test_labels))\n",
    "print(train_labels)"
   ]
  },
  {
   "cell_type": "markdown",
   "metadata": {},
   "source": [
    "神经网络核心组件是层（layer），这是一种数据处理模块，可以看做是一种数据过滤器。下面例子中是由2个Dense层组成，下面是一个10路softmax层，，返回一个由10个概率值组成的数组。"
   ]
  },
  {
   "cell_type": "code",
   "execution_count": 20,
   "metadata": {
    "collapsed": false
   },
   "outputs": [],
   "source": [
    "# 2-2 网络架构\n",
    "from keras import models\n",
    "from keras import layers\n",
    "\n",
    "network = models.Sequential()\n",
    "network.add(layers.Dense(512, activation='relu', input_shape=(28*28,)))\n",
    "network.add(layers.Dense(10, activation='softmax') )"
   ]
  },
  {
   "cell_type": "code",
   "execution_count": 21,
   "metadata": {
    "collapsed": true
   },
   "outputs": [],
   "source": [
    "# 2-3 编译步骤\n",
    "network.compile(optimizer = 'rmsprop',\n",
    "                loss = 'categorical_crossentropy',\n",
    "                metrics = ['accuracy'])"
   ]
  },
  {
   "cell_type": "code",
   "execution_count": 22,
   "metadata": {
    "collapsed": true
   },
   "outputs": [],
   "source": [
    "# 2-4 准备图像数据\n",
    "train_images = train_images.reshape((60000,28 * 28 ))\n",
    "train_images = train_images.astype('float32') / 255\n",
    "\n",
    "test_images = test_images.reshape((10000,28 * 28 ))\n",
    "test_images = test_images.astype('float32') / 255"
   ]
  },
  {
   "cell_type": "code",
   "execution_count": 23,
   "metadata": {
    "collapsed": true
   },
   "outputs": [],
   "source": [
    "# 2-5 准备标签\n",
    "from keras.utils import to_categorical\n",
    "\n",
    "train_labels = to_categorical(train_labels)\n",
    "test_labels = to_categorical(test_labels)"
   ]
  },
  {
   "cell_type": "markdown",
   "metadata": {},
   "source": [
    "开始训练网络，调用网络拟合模型fit"
   ]
  },
  {
   "cell_type": "code",
   "execution_count": 25,
   "metadata": {
    "collapsed": false
   },
   "outputs": [
    {
     "name": "stdout",
     "output_type": "stream",
     "text": [
      "Epoch 1/5\n",
      "60000/60000 [==============================] - 8s 137us/step - loss: 0.2556 - acc: 0.9269\n",
      "Epoch 2/5\n",
      "60000/60000 [==============================] - 7s 118us/step - loss: 0.1022 - acc: 0.9695\n",
      "Epoch 3/5\n",
      "60000/60000 [==============================] - 7s 114us/step - loss: 0.0684 - acc: 0.9801\n",
      "Epoch 4/5\n",
      "60000/60000 [==============================] - 7s 113us/step - loss: 0.0498 - acc: 0.9851\n",
      "Epoch 5/5\n",
      "60000/60000 [==============================] - 7s 110us/step - loss: 0.0375 - acc: 0.9882\n"
     ]
    },
    {
     "data": {
      "text/plain": [
       "<keras.callbacks.History at 0x2b600257048>"
      ]
     },
     "execution_count": 25,
     "metadata": {},
     "output_type": "execute_result"
    }
   ],
   "source": [
    "network.fit(train_images, train_labels, epochs=5, batch_size=128)"
   ]
  },
  {
   "cell_type": "markdown",
   "metadata": {},
   "source": [
    "测试精度"
   ]
  },
  {
   "cell_type": "code",
   "execution_count": 28,
   "metadata": {
    "collapsed": false
   },
   "outputs": [
    {
     "name": "stdout",
     "output_type": "stream",
     "text": [
      "10000/10000 [==============================] - 1s 60us/step\n",
      "test_acc 0.9823\n"
     ]
    }
   ],
   "source": [
    "test_loss, test_acc = network.evaluate(test_images, test_labels)\n",
    "print('test_acc',  test_acc)"
   ]
  },
  {
   "cell_type": "markdown",
   "metadata": {},
   "source": [
    "## 2.2 神经网络的数据表示\n",
    "张量（tensor）是矩阵的任意维度推广，张量的维度（dimension）通常叫做轴（axis）\n",
    "\n",
    "### 2.2.1 标量（0D张量）\n",
    "仅包含一个数字的张量叫做标量（scalar），在numpy中，一个float32或者float64就是一个标量，张量的轴（axis）也叫作阶（rank）"
   ]
  },
  {
   "cell_type": "code",
   "execution_count": 27,
   "metadata": {
    "collapsed": false
   },
   "outputs": [
    {
     "name": "stdout",
     "output_type": "stream",
     "text": [
      "12\n",
      "0\n"
     ]
    }
   ],
   "source": [
    "import numpy as np\n",
    "x = np.array(12)\n",
    "print(x)\n",
    "print(x.ndim)"
   ]
  },
  {
   "cell_type": "markdown",
   "metadata": {},
   "source": [
    "### 2.2.2 向量（1D张量）\n",
    "数字组成的数组叫向量（vector）"
   ]
  },
  {
   "cell_type": "code",
   "execution_count": 29,
   "metadata": {
    "collapsed": false
   },
   "outputs": [
    {
     "name": "stdout",
     "output_type": "stream",
     "text": [
      "[12  3  6 14 71]\n",
      "1\n"
     ]
    }
   ],
   "source": [
    "x = np.array([12, 3, 6, 14, 71])\n",
    "print(x)\n",
    "print(x.ndim)"
   ]
  },
  {
   "cell_type": "markdown",
   "metadata": {},
   "source": [
    "### 2.2.3（2D张量）\n",
    "向量组成的数组叫矩阵（matrix）或者二维张量（行和列）。"
   ]
  },
  {
   "cell_type": "code",
   "execution_count": 30,
   "metadata": {
    "collapsed": false
   },
   "outputs": [
    {
     "name": "stdout",
     "output_type": "stream",
     "text": [
      "[[ 5 78  2 34  0]\n",
      " [ 6 79  3 35  1]\n",
      " [ 7 80  4 36 21]]\n",
      "2\n"
     ]
    }
   ],
   "source": [
    "x = np.array([[5,78,2,34,0],\n",
    "              [6,79,3,35,1],\n",
    "              [7,80,4,36,21]])\n",
    "print(x)\n",
    "print(x.ndim)"
   ]
  },
  {
   "cell_type": "markdown",
   "metadata": {},
   "source": [
    "### 2.2.4 3D张量和更高维张量\n",
    "将多个矩阵组合合成一个新的数组"
   ]
  },
  {
   "cell_type": "code",
   "execution_count": 31,
   "metadata": {
    "collapsed": false
   },
   "outputs": [
    {
     "name": "stdout",
     "output_type": "stream",
     "text": [
      "[[[ 5 78  2 34  0]\n",
      "  [ 6 79  3 35  1]\n",
      "  [ 7 80  4 36 21]]\n",
      "\n",
      " [[ 5 78  2 34  0]\n",
      "  [ 6 79  3 35  1]\n",
      "  [ 7 80  4 36 21]]\n",
      "\n",
      " [[ 5 78  2 34  0]\n",
      "  [ 6 79  3 35  1]\n",
      "  [ 7 80  4 36 21]]]\n",
      "3\n"
     ]
    }
   ],
   "source": [
    "x = np.array([[[5,78,2,34,0],\n",
    "              [6,79,3,35,1],\n",
    "              [7,80,4,36,21]],\n",
    "              [[5,78,2,34,0],\n",
    "              [6,79,3,35,1],\n",
    "              [7,80,4,36,21]],\n",
    "              [[5,78,2,34,0],\n",
    "              [6,79,3,35,1],\n",
    "              [7,80,4,36,21]]])\n",
    "print(x)\n",
    "print(x.ndim)"
   ]
  },
  {
   "cell_type": "markdown",
   "metadata": {},
   "source": [
    "### 2.2.5 关键属性\n",
    "\n",
    "#### 轴的个数ndim\n",
    "#### 形状shape\n",
    "#### 数据类型dtype"
   ]
  },
  {
   "cell_type": "code",
   "execution_count": 32,
   "metadata": {
    "collapsed": false
   },
   "outputs": [
    {
     "name": "stdout",
     "output_type": "stream",
     "text": [
      "3\n",
      "(60000, 28, 28)\n",
      "uint8\n"
     ]
    }
   ],
   "source": [
    "from keras.datasets import mnist\n",
    "\n",
    "(train_images, train_labels), (test_images, test_labels) = mnist.load_data()\n",
    "print(train_images.ndim)\n",
    "print(train_images.shape)\n",
    "print(train_images.dtype)"
   ]
  },
  {
   "cell_type": "markdown",
   "metadata": {},
   "source": [
    "使用Matplotlib库来显示这个三维张量中的第四个数字"
   ]
  },
  {
   "cell_type": "code",
   "execution_count": 34,
   "metadata": {
    "collapsed": false
   },
   "outputs": [
    {
     "data": {
      "image/png": "[encoded data removed]",
      "text/plain": [
       "<matplotlib.figure.Figure at 0x2b602039278>"
      ]
     },
     "metadata": {},
     "output_type": "display_data"
    }
   ],
   "source": [
    "# 2-6 显示第四个数字\n",
    "digit = train_images[4]\n",
    "\n",
    "import matplotlib.pyplot as plt\n",
    "plt.imshow(digit, cmap=plt.cm.binary)\n",
    "plt.show()"
   ]
  },
  {
   "cell_type": "code",
   "execution_count": 36,
   "metadata": {
    "collapsed": false
   },
   "outputs": [
    {
     "data": {
      "image/png": "[encoded data removed]",
      "text/plain": [
       "<matplotlib.figure.Figure at 0x2b602061080>"
      ]
     },
     "metadata": {},
     "output_type": "display_data"
    },
    {
     "data": {
      "image/png": "[encoded data removed]",
      "text/plain": [
       "<matplotlib.figure.Figure at 0x2b601f86668>"
      ]
     },
     "metadata": {},
     "output_type": "display_data"
    },
    {
     "data": {
      "image/png": "[encoded data removed]",
      "text/plain": [
       "<matplotlib.figure.Figure at 0x2b601ad9fd0>"
      ]
     },
     "metadata": {},
     "output_type": "display_data"
    },
    {
     "data": {
      "image/png": "[encoded data removed]",
      "text/plain": [
       "<matplotlib.figure.Figure at 0x2b60211e2e8>"
      ]
     },
     "metadata": {},
     "output_type": "display_data"
    },
    {
     "data": {
      "image/png": "[encoded data removed]",
      "text/plain": [
       "<matplotlib.figure.Figure at 0x2b6020c3438>"
      ]
     },
     "metadata": {},
     "output_type": "display_data"
    },
    {
     "data": {
      "image/png": "[encoded data removed]",
      "text/plain": [
       "<matplotlib.figure.Figure at 0x2b602174b70>"
      ]
     },
     "metadata": {},
     "output_type": "display_data"
    },
    {
     "data": {
      "image/png": "[encoded data removed]",
      "text/plain": [
       "<matplotlib.figure.Figure at 0x2b602214b38>"
      ]
     },
     "metadata": {},
     "output_type": "display_data"
    },
    {
     "data": {
      "image/png": "[encoded data removed]",
      "text/plain": [
       "<matplotlib.figure.Figure at 0x2b602150668>"
      ]
     },
     "metadata": {},
     "output_type": "display_data"
    },
    {
     "data": {
      "image/png": "[encoded data removed]",
      "text/plain": [
       "<matplotlib.figure.Figure at 0x2b6021212b0>"
      ]
     },
     "metadata": {},
     "output_type": "display_data"
    },
    {
     "data": {
      "image/png": "[encoded data removed]",
      "text/plain": [
       "<matplotlib.figure.Figure at 0x2b6021a9f28>"
      ]
     },
     "metadata": {},
     "output_type": "display_data"
    }
   ],
   "source": [
    "for i in range(10):\n",
    "    digit = train_images[i]\n",
    "    plt.imshow(digit, cmap=plt.cm.binary)\n",
    "    plt.show()"
   ]
  },
  {
   "cell_type": "markdown",
   "metadata": {},
   "source": [
    "### 2.2.6 在Numpy中操作张量\n",
    "张量切片train_images[i]"
   ]
  },
  {
   "cell_type": "code",
   "execution_count": 40,
   "metadata": {
    "collapsed": false
   },
   "outputs": [
    {
     "name": "stdout",
     "output_type": "stream",
     "text": [
      "(90, 28, 28)\n",
      "(90, 28, 28)\n",
      "(90, 28, 28)\n"
     ]
    }
   ],
   "source": [
    "# 下列三种方法等价\n",
    "my_slice= train_images[10:100]\n",
    "print(my_slice.shape)\n",
    "my_slice = train_images[10:100, :, :]\n",
    "print(my_slice.shape)\n",
    "my_slice = train_images[10:100, 0:28, 0:28]\n",
    "print(my_slice.shape)"
   ]
  },
  {
   "cell_type": "markdown",
   "metadata": {},
   "source": [
    "train_images第一维数据表示第几张图，第二维和第三维表示图片的像素。例如，选取所有图片右下角的14x14像素区域"
   ]
  },
  {
   "cell_type": "code",
   "execution_count": 42,
   "metadata": {
    "collapsed": false
   },
   "outputs": [],
   "source": [
    "my_slice = train_images[:, 14:, 14: ]"
   ]
  },
  {
   "cell_type": "markdown",
   "metadata": {},
   "source": [
    "也可以使用负数索引，在中心裁剪出14x14像素的区域"
   ]
  },
  {
   "cell_type": "code",
   "execution_count": 43,
   "metadata": {
    "collapsed": true
   },
   "outputs": [],
   "source": [
    "my_slice = train_images[:, 7:-7, 7:-7]"
   ]
  },
  {
   "cell_type": "markdown",
   "metadata": {},
   "source": [
    "### 2.2.7 数据批量的概率\n",
    "深度学习中所有数据张量的第一个轴都是样本轴，有时也叫作样本维度。通常来说模型每次不会同时处理整个数据集，而是拆分成多个小批量"
   ]
  },
  {
   "cell_type": "code",
   "execution_count": 44,
   "metadata": {
    "collapsed": false
   },
   "outputs": [
    {
     "ename": "NameError",
     "evalue": "name 'batch' is not defined",
     "traceback": [
      "\u001b[0;31m---------------------------------------------------------------------------\u001b[0m",
      "\u001b[0;31mNameError\u001b[0m                                 Traceback (most recent call last)",
      "\u001b[0;32m<ipython-input-44-d4a24b150a04>\u001b[0m in \u001b[0;36m<module>\u001b[0;34m()\u001b[0m\n\u001b[0;32m----> 1\u001b[0;31m \u001b[0mbatch\u001b[0m\u001b[1;33m[\u001b[0m\u001b[1;36m0\u001b[0m\u001b[1;33m]\u001b[0m \u001b[1;33m=\u001b[0m \u001b[0mtrain_images\u001b[0m\u001b[1;33m[\u001b[0m\u001b[1;33m:\u001b[0m\u001b[1;36m128\u001b[0m\u001b[1;33m]\u001b[0m\u001b[1;33m\u001b[0m\u001b[0m\n\u001b[0m\u001b[1;32m      2\u001b[0m \u001b[0mbatch\u001b[0m\u001b[1;33m[\u001b[0m\u001b[1;36m1\u001b[0m\u001b[1;33m]\u001b[0m \u001b[1;33m=\u001b[0m \u001b[0mtrain_images\u001b[0m\u001b[1;33m[\u001b[0m\u001b[1;36m128\u001b[0m\u001b[1;33m:\u001b[0m\u001b[1;36m256\u001b[0m\u001b[1;33m]\u001b[0m\u001b[1;33m\u001b[0m\u001b[0m\n\u001b[1;32m      3\u001b[0m \u001b[0mbatch\u001b[0m\u001b[1;33m[\u001b[0m\u001b[0mn\u001b[0m\u001b[1;33m]\u001b[0m \u001b[1;33m=\u001b[0m \u001b[0mtrain_images\u001b[0m\u001b[1;33m[\u001b[0m\u001b[1;36m128\u001b[0m\u001b[1;33m*\u001b[0m\u001b[0mn\u001b[0m\u001b[1;33m:\u001b[0m\u001b[1;36m128\u001b[0m\u001b[1;33m*\u001b[0m\u001b[1;33m(\u001b[0m\u001b[0mn\u001b[0m\u001b[1;33m+\u001b[0m\u001b[1;36m1\u001b[0m\u001b[1;33m)\u001b[0m\u001b[1;33m]\u001b[0m\u001b[1;33m\u001b[0m\u001b[0m\n",
      "\u001b[0;31mNameError\u001b[0m: name 'batch' is not defined"
     ],
     "output_type": "error"
    }
   ],
   "source": [
    "batch[0] = train_images[:128]\n",
    "batch[1] = train_images[128:256]\n",
    "batch[n] = train_images[128*n:128*(n+1)]"
   ]
  },
  {
   "cell_type": "markdown",
   "metadata": {},
   "source": [
    "### 2.2.8 现实世界中的数据张量\n",
    "向量数据：2D张量，形状为（samples, features)  \n",
    "\n",
    "时间序列数据或者序列数据：3D张量，形状为（samples, timesteps, features）  \n",
    "\n",
    "图像：4D张量，形状为（samples, height, width, channels）或（samples, channels, height, width）  \n",
    "\n",
    "视频：5D张量，形状为（samples, frames, height, width, channels）或（samples, frames, channels, height, width）"
   ]
  },
  {
   "cell_type": "markdown",
   "metadata": {},
   "source": [
    "### 2.2.9 向量数据\n",
    "一般为2D张量，第一轴为样本轴，第二维是特征轴"
   ]
  },
  {
   "cell_type": "markdown",
   "metadata": {},
   "source": [
    "### 2.2.10 时间序列数据或序列数据\n",
    "3D张量，特征轴、样本轴、时间步长"
   ]
  },
  {
   "cell_type": "markdown",
   "metadata": {},
   "source": [
    "### 2.2.11 图像数据\n",
    "通常是三个维度：高度、宽度和颜色深度。128张彩色图像组成的批量可以保存在（128， 256， 256， 3）的张量中"
   ]
  },
  {
   "cell_type": "markdown",
   "metadata": {},
   "source": [
    "### 2.2.12 视频数据\n",
    "5D张量，视频每一帧形状为（height, width, color_depth），一系列帧可以保存在形状为（frames, height, width, color_depth）,不同视频组成的批量可以保存在一个5D的张量中，形状为（samples, frames, height, width, color_depth）"
   ]
  },
  {
   "cell_type": "markdown",
   "metadata": {},
   "source": [
    "## 2.3 神经网络的“齿轮”：张量运算\n",
    "output = relu(dot(W, input) + b)  \n",
    "拆分来看是dot点积运算、张量与向量b的加法运算、最后的relu运算。\n",
    "### 2.3.1 逐元素计算(element-wise)"
   ]
  },
  {
   "cell_type": "code",
   "execution_count": 45,
   "metadata": {
    "collapsed": true
   },
   "outputs": [],
   "source": [
    "def naive_relu(x):\n",
    "    assert len(x.shape) == 2\n",
    "    \n",
    "    x = x.copy()\n",
    "    for i in range(x.shape[0]):\n",
    "        for j in range(x.shape[1]):\n",
    "            x[i,j] = max(x[i, j], 0)\n",
    "    return x\n",
    "\n",
    "def naive_add(x):\n",
    "    assert len(x.shape) == 2\n",
    "    assert x.shape ==y.shape\n",
    "    \n",
    "    x = x.copy()\n",
    "    for i in range(x.shape[0]):\n",
    "        for j in range(x.shape[1]):\n",
    "            x[i,j] += y[i, j]\n",
    "    return x"
   ]
  },
  {
   "cell_type": "code",
   "execution_count": 46,
   "metadata": {
    "collapsed": true
   },
   "outputs": [],
   "source": [
    "import numpy as np\n",
    "def elementwise_np(x, y):\n",
    "    z = x + y\n",
    "    z = np.maximum(z, 0.)\n",
    "    return z"
   ]
  },
  {
   "cell_type": "code",
   "execution_count": 49,
   "metadata": {
    "collapsed": false
   },
   "outputs": [
    {
     "name": "stdout",
     "output_type": "stream",
     "text": [
      "[[1. 1.]\n",
      " [2. 2.]\n",
      " [1. 1.]\n",
      " [2. 2.]]\n"
     ]
    }
   ],
   "source": [
    "x = [[1, 1],\n",
    "    [2,2]]\n",
    "y = [[1, 1],\n",
    "    [2,2]]\n",
    "z1 = elementwise_np(x, y)\n",
    "print(z1)"
   ]
  },
  {
   "cell_type": "markdown",
   "metadata": {},
   "source": [
    "### 2.3.2 广播  \n",
    "\n",
    "naive_add仅支持两个形状相同的2D张量。如果形状不同的张量相加，较小的张量会被广播（broadcast），以匹配较大的张量形状。广播步骤为以下两步：  \n",
    "  \n",
    "（1）向较小的张量添加轴，使其ndim与较大的张量相同  \n",
    "\n",
    "（2）将较小的张量沿着新轴重复，使其与较大的张量相同"
   ]
  },
  {
   "cell_type": "code",
   "execution_count": 50,
   "metadata": {
    "collapsed": true
   },
   "outputs": [],
   "source": [
    "def naive_add_matrix_and_vector(x, y):\n",
    "    assert len(x.shape) == 2\n",
    "    assert len(y.shape) == 1\n",
    "    assert x.shape[1] == y.shape[0]\n",
    "    \n",
    "    x = x.copy()\n",
    "    for i in range(x.shape[0]):\n",
    "        for j in range(x.shape[1]):\n",
    "            x[i, j] += y[j]\n",
    "    return x"
   ]
  },
  {
   "cell_type": "markdown",
   "metadata": {},
   "source": [
    "如果一个张量的形状是（a, b, ... n, n+1, ... m）,另一个张量形状是(n, n+1, ... m),那么广播会自动应用于从a到n-1的轴。"
   ]
  },
  {
   "cell_type": "code",
   "execution_count": 54,
   "metadata": {
    "collapsed": false
   },
   "outputs": [
    {
     "name": "stdout",
     "output_type": "stream",
     "text": [
      "[[[[0.33294191 0.80680608 0.63195904 ... 0.95023797 0.27865154\n",
      "    0.39357386]\n",
      "   [0.64943532 0.45252395 0.13057712 ... 0.66416209 0.48792049\n",
      "    0.9616703 ]\n",
      "   [0.97494897 0.89371824 0.52127514 ... 0.1967573  0.45263704\n",
      "    0.98694349]\n",
      "   ...\n",
      "   [0.91790318 0.8776375  0.23554274 ... 0.91072417 0.98719006\n",
      "    0.96753475]\n",
      "   [0.23696278 0.83444877 0.86019821 ... 0.32372325 0.2783041\n",
      "    0.98940237]\n",
      "   [0.64035796 0.95171756 0.43774763 ... 0.4508077  0.31143063\n",
      "    0.9442617 ]]\n",
      "\n",
      "  [[0.86731259 0.80680608 0.76991605 ... 0.32414356 0.74373959\n",
      "    0.83718094]\n",
      "   [0.89172469 0.18446911 0.51460041 ... 0.92602051 0.37072639\n",
      "    0.58787595]\n",
      "   [0.97494897 0.51303439 0.98900848 ... 0.66498988 0.12242357\n",
      "    0.98791805]\n",
      "   ...\n",
      "   [0.58136338 0.8776375  0.65278058 ... 0.38671451 0.8526763\n",
      "    0.48546677]\n",
      "   [0.34916431 0.78297702 0.86019821 ... 0.36227555 0.49295445\n",
      "    0.9073793 ]\n",
      "   [0.64035796 0.59633195 0.48116738 ... 0.73826286 0.20676848\n",
      "    0.84402097]]\n",
      "\n",
      "  [[0.85807554 0.80680608 0.73894811 ... 0.53407059 0.85807597\n",
      "    0.39357386]\n",
      "   [0.65637033 0.87583657 0.84768899 ... 0.75189068 0.37072639\n",
      "    0.58787595]\n",
      "   [0.97494897 0.13522923 0.80046315 ... 0.25586666 0.24535993\n",
      "    0.98694349]\n",
      "   ...\n",
      "   [0.24284954 0.8776375  0.75366719 ... 0.77202656 0.76967816\n",
      "    0.48546677]\n",
      "   [0.34853223 0.95160653 0.86019821 ... 0.26312464 0.81944535\n",
      "    0.9073793 ]\n",
      "   [0.64851432 0.59633195 0.88450407 ... 0.96029956 0.34195769\n",
      "    0.9753522 ]]]\n",
      "\n",
      "\n",
      " [[[0.99193915 0.80920175 0.91763745 ... 0.78597575 0.17682199\n",
      "    0.78623152]\n",
      "   [0.64943532 0.6533742  0.21551062 ... 0.77732534 0.45322693\n",
      "    0.66283685]\n",
      "   [0.97494897 0.65704299 0.79371482 ... 0.97325891 0.49872454\n",
      "    0.98694349]\n",
      "   ...\n",
      "   [0.28182468 0.8776375  0.3291514  ... 0.95166648 0.76967816\n",
      "    0.80543346]\n",
      "   [0.2547425  0.30103297 0.86019821 ... 0.95128276 0.33126336\n",
      "    0.9073793 ]\n",
      "   [0.64035796 0.59633195 0.24161772 ... 0.5786688  0.35779012\n",
      "    0.84402097]]\n",
      "\n",
      "  [[0.12715501 0.97900293 0.63195904 ... 0.05965989 0.66864519\n",
      "    0.39357386]\n",
      "   [0.64943532 0.50865707 0.9916777  ... 0.87198743 0.74244447\n",
      "    0.58787595]\n",
      "   [0.97494897 0.10785772 0.52127514 ... 0.46928783 0.22990733\n",
      "    0.98694349]\n",
      "   ...\n",
      "   [0.24284954 0.8776375  0.61165536 ... 0.94946565 0.76967816\n",
      "    0.48546677]\n",
      "   [0.98847839 0.33662681 0.86019821 ... 0.29796377 0.2783041\n",
      "    0.9073793 ]\n",
      "   [0.64035796 0.59633195 0.93125875 ... 0.64434817 0.20676848\n",
      "    0.84402097]]\n",
      "\n",
      "  [[0.36334567 0.80680608 0.89353665 ... 0.05965989 0.74047872\n",
      "    0.86245018]\n",
      "   [0.64943532 0.33084993 0.78941021 ... 0.58910344 0.37072639\n",
      "    0.58787595]\n",
      "   [0.97494897 0.69797296 0.66782113 ... 0.40900256 0.74785668\n",
      "    0.98694349]\n",
      "   ...\n",
      "   [0.24341237 0.8776375  0.30046159 ... 0.33633862 0.91768674\n",
      "    0.60533776]\n",
      "   [0.45671281 0.98226675 0.97000416 ... 0.82704531 0.2783041\n",
      "    0.9073793 ]\n",
      "   [0.64035796 0.8778408  0.37230905 ... 0.59484977 0.41005721\n",
      "    0.84402097]]]\n",
      "\n",
      "\n",
      " [[[0.12715501 0.80680608 0.63195904 ... 0.23859556 0.33990601\n",
      "    0.39357386]\n",
      "   [0.64943532 0.15067795 0.38348949 ... 0.43469631 0.85534914\n",
      "    0.71601686]\n",
      "   [0.97494897 0.10785772 0.52127514 ... 0.91830411 0.13559108\n",
      "    0.98694349]\n",
      "   ...\n",
      "   [0.8818389  0.8776375  0.91347608 ... 0.18719038 0.80917735\n",
      "    0.6343348 ]\n",
      "   [0.98941808 0.69565017 0.86019821 ... 0.26312464 0.36571213\n",
      "    0.9073793 ]\n",
      "   [0.64035796 0.59633195 0.32431563 ... 0.56982991 0.2447211\n",
      "    0.84402097]]\n",
      "\n",
      "  [[0.3653313  0.98218197 0.88479385 ... 0.6505131  0.79215212\n",
      "    0.66422039]\n",
      "   [0.64943532 0.42643096 0.91277199 ... 0.83444378 0.37072639\n",
      "    0.76868491]\n",
      "   [0.97494897 0.400983   0.52127514 ... 0.1967573  0.39118704\n",
      "    0.98694349]\n",
      "   ...\n",
      "   [0.70497877 0.8776375  0.93407939 ... 0.64495899 0.87627946\n",
      "    0.48546677]\n",
      "   [0.23696278 0.95731031 0.86019821 ... 0.29581213 0.6490708\n",
      "    0.9073793 ]\n",
      "   [0.85381965 0.63919831 0.14351658 ... 0.85781127 0.20676848\n",
      "    0.84402097]]\n",
      "\n",
      "  [[0.79611772 0.80680608 0.63195904 ... 0.42549693 0.29401855\n",
      "    0.39357386]\n",
      "   [0.95847097 0.63360016 0.66039974 ... 0.43469631 0.39846268\n",
      "    0.85932171]\n",
      "   [0.97494897 0.10785772 0.52127514 ... 0.1967573  0.20201281\n",
      "    0.98694349]\n",
      "   ...\n",
      "   [0.24284954 0.8776375  0.66095432 ... 0.78503637 0.76967816\n",
      "    0.83199098]\n",
      "   [0.5197475  0.92528332 0.96365822 ... 0.58716886 0.9269357\n",
      "    0.9073793 ]\n",
      "   [0.64035796 0.59633195 0.88611583 ... 0.4508077  0.20676848\n",
      "    0.84402097]]]\n",
      "\n",
      "\n",
      " ...\n",
      "\n",
      "\n",
      " [[[0.21094788 0.80680608 0.63195904 ... 0.91714375 0.98562293\n",
      "    0.53237245]\n",
      "   [0.91255536 0.43623702 0.26186832 ... 0.43469631 0.51058909\n",
      "    0.58787595]\n",
      "   [0.97494897 0.78619527 0.52127514 ... 0.91402539 0.95629545\n",
      "    0.98694349]\n",
      "   ...\n",
      "   [0.24284954 0.8776375  0.9058407  ... 0.91182825 0.76967816\n",
      "    0.59450172]\n",
      "   [0.35684319 0.17274595 0.86019821 ... 0.26312464 0.2783041\n",
      "    0.9073793 ]\n",
      "   [0.64035796 0.59633195 0.76871283 ... 0.4508077  0.46670192\n",
      "    0.84402097]]\n",
      "\n",
      "  [[0.30756005 0.80680608 0.63195904 ... 0.86725488 0.10973066\n",
      "    0.39357386]\n",
      "   [0.64943532 0.77778293 0.62033634 ... 0.90383773 0.43505016\n",
      "    0.74421416]\n",
      "   [0.97494897 0.44629599 0.57586284 ... 0.77664675 0.36490753\n",
      "    0.98694349]\n",
      "   ...\n",
      "   [0.7661254  0.8776375  0.41015126 ... 0.36223159 0.76967816\n",
      "    0.48546677]\n",
      "   [0.2727468  0.07293574 0.86019821 ... 0.92962218 0.91860529\n",
      "    0.9073793 ]\n",
      "   [0.64035796 0.63436456 0.91330817 ... 0.56153816 0.28974109\n",
      "    0.84402097]]\n",
      "\n",
      "  [[0.20533514 0.80680608 0.63195904 ... 0.13792357 0.84537635\n",
      "    0.97970916]\n",
      "   [0.94934056 0.45165498 0.14882643 ... 0.43469631 0.68893219\n",
      "    0.58787595]\n",
      "   [0.97494897 0.57454068 0.52127514 ... 0.74183231 0.78435344\n",
      "    0.98694349]\n",
      "   ...\n",
      "   [0.92503462 0.8776375  0.7115266  ... 0.54706594 0.99877143\n",
      "    0.48546677]\n",
      "   [0.23696278 0.08491901 0.98928456 ... 0.87078202 0.28583496\n",
      "    0.91628844]\n",
      "   [0.64035796 0.59633195 0.69489201 ... 0.4508077  0.44414089\n",
      "    0.84402097]]]\n",
      "\n",
      "\n",
      " [[[0.41302412 0.91772895 0.9880929  ... 0.05965989 0.96865037\n",
      "    0.73434566]\n",
      "   [0.64943532 0.72436298 0.13057712 ... 0.43469631 0.56423326\n",
      "    0.59365052]\n",
      "   [0.97494897 0.99629323 0.52127514 ... 0.98911553 0.52741062\n",
      "    0.98694349]\n",
      "   ...\n",
      "   [0.74847595 0.8776375  0.76630244 ... 0.18719038 0.76967816\n",
      "    0.49131825]\n",
      "   [0.87474036 0.77510844 0.9246463  ... 0.26312464 0.79506657\n",
      "    0.9073793 ]\n",
      "   [0.64035796 0.59633195 0.83678814 ... 0.4508077  0.77972248\n",
      "    0.86053158]]\n",
      "\n",
      "  [[0.69201398 0.89191901 0.69363598 ... 0.23776218 0.68759902\n",
      "    0.66937698]\n",
      "   [0.64943532 0.25462835 0.13057712 ... 0.70594451 0.37072639\n",
      "    0.91295822]\n",
      "   [0.97494897 0.10785772 0.52127514 ... 0.44029196 0.28599471\n",
      "    0.98694349]\n",
      "   ...\n",
      "   [0.55321894 0.92766299 0.45493672 ... 0.2443319  0.76967816\n",
      "    0.48546677]\n",
      "   [0.23696278 0.49744075 0.86019821 ... 0.26312464 0.33251172\n",
      "    0.9073793 ]\n",
      "   [0.64035796 0.59633195 0.77493272 ... 0.4508077  0.37497417\n",
      "    0.84402097]]\n",
      "\n",
      "  [[0.27970054 0.8729818  0.63195904 ... 0.34816122 0.73970194\n",
      "    0.67175033]\n",
      "   [0.91274985 0.64809818 0.13057712 ... 0.43469631 0.37072639\n",
      "    0.58787595]\n",
      "   [0.97494897 0.10785772 0.52127514 ... 0.52867042 0.12915447\n",
      "    0.98694349]\n",
      "   ...\n",
      "   [0.24284954 0.8776375  0.48351629 ... 0.98392586 0.76967816\n",
      "    0.87981007]\n",
      "   [0.41275414 0.80671547 0.86019821 ... 0.28586186 0.75216679\n",
      "    0.9073793 ]\n",
      "   [0.70683175 0.68687827 0.49399899 ... 0.65873768 0.20676848\n",
      "    0.84402097]]]\n",
      "\n",
      "\n",
      " [[[0.74592394 0.80680608 0.98906594 ... 0.21029944 0.69030084\n",
      "    0.39357386]\n",
      "   [0.64943532 0.78354408 0.49804551 ... 0.93310983 0.65478674\n",
      "    0.58787595]\n",
      "   [0.97494897 0.10785772 0.75399484 ... 0.1967573  0.83643728\n",
      "    0.98694349]\n",
      "   ...\n",
      "   [0.67457857 0.8776375  0.977549   ... 0.18719038 0.76967816\n",
      "    0.48546677]\n",
      "   [0.82438323 0.77475557 0.86019821 ... 0.27757649 0.94833741\n",
      "    0.9073793 ]\n",
      "   [0.75595333 0.97325281 0.93618502 ... 0.70583854 0.64618454\n",
      "    0.87307973]]\n",
      "\n",
      "  [[0.55021824 0.80680608 0.73337637 ... 0.38564819 0.10973066\n",
      "    0.95015883]\n",
      "   [0.64943532 0.32709023 0.3776042  ... 0.43469631 0.45828617\n",
      "    0.58787595]\n",
      "   [0.97494897 0.39867512 0.72711776 ... 0.1967573  0.93107591\n",
      "    0.98694349]\n",
      "   ...\n",
      "   [0.8595104  0.8776375  0.42183244 ... 0.29126658 0.76967816\n",
      "    0.81793974]\n",
      "   [0.43129842 0.19775895 0.86019821 ... 0.67218841 0.83246576\n",
      "    0.9073793 ]\n",
      "   [0.64035796 0.96507528 0.32234863 ... 0.4508077  0.20676848\n",
      "    0.95461351]]\n",
      "\n",
      "  [[0.62609375 0.80680608 0.63195904 ... 0.73987428 0.77372287\n",
      "    0.5783513 ]\n",
      "   [0.64943532 0.57073399 0.13057712 ... 0.76030698 0.37072639\n",
      "    0.58787595]\n",
      "   [0.97494897 0.80111494 0.52127514 ... 0.1967573  0.49504893\n",
      "    0.98694349]\n",
      "   ...\n",
      "   [0.45922001 0.96125449 0.52606262 ... 0.66507871 0.76967816\n",
      "    0.78797921]\n",
      "   [0.58554424 0.55820468 0.86019821 ... 0.96054694 0.53811238\n",
      "    0.94974384]\n",
      "   [0.64035796 0.59633195 0.45007225 ... 0.71564254 0.20676848\n",
      "    0.84402097]]]]\n"
     ]
    }
   ],
   "source": [
    "# 利用广播将elementwise的maximum运算应用于两个不同的张量\n",
    "import numpy as np\n",
    "\n",
    "x = np.random.random((64, 3, 32, 10))\n",
    "y = np.random.random((32, 10))\n",
    "\n",
    "z = np.maximum(x, y)\n",
    "print(z)"
   ]
  },
  {
   "cell_type": "markdown",
   "metadata": {},
   "source": [
    "### 2.3.3 张量点积\n",
    "<p>tensor product，在Numpy、Tensorflow、Theano、Keras中都是用\\*来实现element-wise。  \n",
    "在Numpy和keras中，用标准的dot运算符实现点积。</p>   \n",
    "<pre><code>\n",
    "import numpy as np\n",
    "z = np.dot(x, y)\n",
    "</code></pre>\n",
    "\n",
    "数学符号中的点（.）表示点积运算\n"
   ]
  },
  {
   "cell_type": "code",
   "execution_count": 2,
   "metadata": {
    "collapsed": true
   },
   "outputs": [],
   "source": [
    "# 点积运算\n",
    "def naive_vector_dot(x, y):\n",
    "    assert len(x.shape) == 1\n",
    "    assert len(y.shape) == 1\n",
    "    assert x.shape[0] == y.shape[0]\n",
    "    \n",
    "    z = 0.\n",
    "    for i in range(x.shape[0]):\n",
    "        z += x[i] * y[i]\n",
    "    return z"
   ]
  },
  {
   "cell_type": "code",
   "execution_count": 3,
   "metadata": {
    "collapsed": false
   },
   "outputs": [
    {
     "data": {
      "text/plain": [
       "5.0"
      ]
     },
     "execution_count": 3,
     "metadata": {},
     "output_type": "execute_result"
    }
   ],
   "source": [
    "x = np.array([1, 2])\n",
    "y = np.array([1, 2])\n",
    "naive_vector_dot(x,y)\n",
    "# 输出 5.0 注意这里使用np.array()创建数组，常规的list没有shape这个属性"
   ]
  },
  {
   "cell_type": "markdown",
   "metadata": {},
   "source": [
    "两个向量之间的点积是一个标量，只有元素个数相同的向量（vector）才能做点积。  \n",
    "\n",
    "同时也可以对一个矩阵x和一个向量y做点积，返回值是一个向量。其中每个元素是y和x每一行之间的点积。"
   ]
  },
  {
   "cell_type": "code",
   "execution_count": 7,
   "metadata": {
    "collapsed": true
   },
   "outputs": [],
   "source": [
    "# 矩阵x和一个向量y做点积，返回一个向量\n",
    "import numpy as np\n",
    "\n",
    "def naive_matrix_vector_dot(x, y):\n",
    "    assert len(x.shape) == 2\n",
    "    assert len(y.shape) == 1\n",
    "    assert x.shape[1] == y.shape[0]\n",
    "    \n",
    "    z = np.zeros(x.shape[0])\n",
    "    for i in range(x.shape[0]):\n",
    "        for j in range(x.shape[1]):\n",
    "            z[i] += x[i, j] * y[j]\n",
    "    return z"
   ]
  },
  {
   "cell_type": "code",
   "execution_count": 8,
   "metadata": {
    "collapsed": false
   },
   "outputs": [
    {
     "data": {
      "text/plain": [
       "array([4., 8.])"
      ]
     },
     "execution_count": 8,
     "metadata": {},
     "output_type": "execute_result"
    }
   ],
   "source": [
    "x = np.array([[1, 1],\n",
    "              [2, 2]])\n",
    "y = np.array([1, 3])\n",
    "naive_matrix_vector_dot(x, y)"
   ]
  },
  {
   "cell_type": "markdown",
   "metadata": {},
   "source": [
    "点积可以推广到具有任意个轴的张量，两个矩阵间的点积。   \n",
    "\n",
    "对于矩阵x和y，当且仅当x.shape[1] == y.shape[0]时，才能做点积运算dot(x, y)，得到的结果为（x.shape[0], y.shape[1]）的矩阵。"
   ]
  },
  {
   "cell_type": "code",
   "execution_count": 9,
   "metadata": {
    "collapsed": true
   },
   "outputs": [],
   "source": [
    "def naive_matrix_dot(x, y):\n",
    "    assert len(x.shape) == 2\n",
    "    assert len(y.shape) == 2\n",
    "    assert x.shape[1] == y.shape[0]\n",
    "    \n",
    "    z = np.zeros((x.shape[0], y.shape[1]))\n",
    "    for i in range(x.shape[0]):\n",
    "        for j in range(y.shape[1]):\n",
    "            row_x = x[i, :]\n",
    "            column_y = y[:, j]\n",
    "            z[i, j] = naive_vector_dot(row_x, column_y)\n",
    "    return z"
   ]
  },
  {
   "cell_type": "code",
   "execution_count": 10,
   "metadata": {
    "collapsed": false
   },
   "outputs": [
    {
     "data": {
      "text/plain": [
       "array([[ 6.,  6.],\n",
       "       [12., 12.]])"
      ]
     },
     "execution_count": 10,
     "metadata": {},
     "output_type": "execute_result"
    }
   ],
   "source": [
    "# 矩阵x：2x3  矩阵y: 3x2\n",
    "x = np.array([[1, 1, 1],\n",
    "              [2, 2, 2]])\n",
    "y = np.array([[1, 1],\n",
    "              [2, 2],\n",
    "              [3, 3]])\n",
    "naive_matrix_dot(x, y)"
   ]
  },
  {
   "cell_type": "markdown",
   "metadata": {},
   "source": [
    "### 2.3.4 张量变形\n",
    "数据预处理时用到train_images = train_images.reshape((60000, 28*28))"
   ]
  },
  {
   "cell_type": "code",
   "execution_count": 17,
   "metadata": {
    "collapsed": false
   },
   "outputs": [
    {
     "name": "stdout",
     "output_type": "stream",
     "text": [
      "(3, 2)\n",
      "[[0.]\n",
      " [1.]\n",
      " [2.]\n",
      " [3.]\n",
      " [4.]\n",
      " [5.]]\n",
      "(20, 300)\n"
     ]
    }
   ],
   "source": [
    "x = np.array([[0., 1.],\n",
    "             [2., 3.],\n",
    "             [4., 5.]])\n",
    "print(x.shape)\n",
    "x = x.reshape((6,1))\n",
    "print(x)\n",
    "\n",
    "# 转置transpose\n",
    "x = np.zeros((300,20))\n",
    "x = np.transpose(x)\n",
    "print(x.shape)"
   ]
  },
  {
   "cell_type": "markdown",
   "metadata": {},
   "source": [
    "### 2.3.5 张量运算的几何解释\n",
    "二维空间的一个点，向量描绘成原点的箭头。通常来说，仿射变换、旋转、缩放等基本几何操作表示为张量运算。"
   ]
  },
  {
   "cell_type": "markdown",
   "metadata": {},
   "source": [
    "### 2.3.6 深度学习的几何解释\n",
    "将复杂的几何变换逐步分解为一长串基本的几何变换。"
   ]
  },
  {
   "cell_type": "markdown",
   "metadata": {},
   "source": [
    "## 2.4 神经网络的“引擎”： 基于梯度的优化\n",
    "对于网络所有计算都是可微的（differentiable），计算网络系数的梯度，然后反方向改变系数，从而使损失降低"
   ]
  },
  {
   "cell_type": "markdown",
   "metadata": {},
   "source": [
    "### 2.4.1 什么是导数\n",
    "导数（derivative）\n",
    "### 2.4.2 张量运算的导数：梯度\n",
    "梯度是张量运算的导数，输入向量x、一个矩阵W、一个目标y和一个损失函数loss。用W来计算预测值y_pred，然后计算损失（y和y_pred之间的距离）。"
   ]
  },
  {
   "cell_type": "code",
   "execution_count": null,
   "metadata": {
    "collapsed": true
   },
   "outputs": [],
   "source": [
    "y_pred = dot(W, x)\n",
    "loss_value = loss(y_pred, y)\n",
    "\n",
    "loss_value = f(W)\n",
    "W1 = W0 - step * gradient(f)(W0)"
   ]
  },
  {
   "cell_type": "markdown",
   "metadata": {},
   "source": [
    "### 2.4.3 随机梯度下降\n",
    "（1）抽取训练样本x和对于目标y组成的数据批量  \n",
    "\n",
    "（2）在x上运行网络，得到预测值y_pred  \n",
    "\n",
    "（3）计算网络在这批数据上的损失，用于衡量y_pred和y之间的距离  \n",
    "\n",
    "（4）计算损失相对于网络参数的梯度  \n",
    "\n",
    "（5）将参数沿着梯度的反方向移动一点， W -= step * gradient"
   ]
  },
  {
   "cell_type": "markdown",
   "metadata": {},
   "source": [
    "优化方法（optimization method）:SGD、Adagrad、RMSProp  \n"
   ]
  },
  {
   "cell_type": "code",
   "execution_count": null,
   "metadata": {
    "collapsed": true
   },
   "outputs": [],
   "source": [
    "# 动量方法（momentum）\n",
    "past_velocity= 0.\n",
    "momentum= 0.1\n",
    "while loss > 0.01:\n",
    "    w, loss, gradient = get_current_parameters()\n",
    "    velocity = past_velocity * momentum - learning_rate * gradient\n",
    "    w = w + momentum * velocity - learning_rate * gradient\n",
    "    past_velocity = velocity\n",
    "    update_parameter(w)"
   ]
  },
  {
   "cell_type": "markdown",
   "metadata": {},
   "source": [
    "### 2.4.4 链式求导： 反向传播算法\n",
    "backpropagation\n",
    "## 2.5 回顾第一个例子"
   ]
  },
  {
   "cell_type": "code",
   "execution_count": null,
   "metadata": {
    "collapsed": true
   },
   "outputs": [],
   "source": []
  }
 ],
 "metadata": {
  "anaconda-cloud": {},
  "kernelspec": {
   "display_name": "Python [default]",
   "language": "python",
   "name": "python3"
  },
  "language_info": {
   "codemirror_mode": {
    "name": "ipython",
    "version": 3
   },
   "file_extension": ".py",
   "mimetype": "text/x-python",
   "name": "python",
   "nbconvert_exporter": "python",
   "pygments_lexer": "ipython3",
   "version": "3.5.2"
  }
 },
 "nbformat": 4,
 "nbformat_minor": 1
}
