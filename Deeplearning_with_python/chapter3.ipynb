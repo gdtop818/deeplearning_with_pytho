{
 "cells": [
  {
   "cell_type": "markdown",
   "metadata": {},
   "source": [
    "# 第3章 神经网络入门\n",
    "本章介绍神经网络的核心组件（层、网络、目标函数和优化器），章末会用三个介绍性的事例使用神经网络解决实际问题：  \n",
    "将电影评论划分为正面或负面（二分类问题）  \n",
    "将新闻按主题分类（多分类问题）  \n",
    "根据房地产数据估算房屋价格（回归问题）  "
   ]
  },
  {
   "cell_type": "markdown",
   "metadata": {},
   "source": [
    "## 3.1 神经网络剖析\n",
    "层，多层（网络模型）  \n",
    "输入数据和相应的目标  \n",
    "损失函数  \n",
    "优化器\n",
    "### 3.1.1 层：深度学习的基础组件"
   ]
  },
  {
   "cell_type": "code",
   "execution_count": 3,
   "metadata": {
    "collapsed": false
   },
   "outputs": [],
   "source": [
    "from keras import models\n",
    "from keras import layers\n",
    "model = models.Sequential()\n",
    "model.add(layers.Dense(32, input_shape=(784,)))\n",
    "model.add(layers.Dense(32))"
   ]
  },
  {
   "cell_type": "markdown",
   "metadata": {},
   "source": [
    "### 3.1.2 模型：层构成的网络\n",
    "双分支网络（two-branch）  \n",
    "多头网络（multihead）  \n",
    "Inception模块  \n",
    "### 3.1.3 损失函数与优化器：配置学习过程的关键\n",
    "损失函数（目标函数）：最小化，能衡量当前任务是否已经成功完成。  \n",
    "优化器：决定如何基于损失函数对网络进行更新。  \n",
    "对于二分类问题，就可以选用二元交叉熵（binary crossentropy）损失函数；  \n",
    "对于多分类问题，可以用分类交叉熵（categorical crossentropy）损失函数；  \n",
    "对于序列数据问题，可以用联结时序分类（CTC）损失函数"
   ]
  },
  {
   "cell_type": "markdown",
   "metadata": {},
   "source": [
    "## 3.2 Keras简介\n",
    "特性：  \n",
    "相同的代码可以在CPU或者GPU上无缝切换运行  \n",
    "具有用户良好的API，便于快速开发深度学习模型   \n",
    "内置支持卷积网络，循环网络以及二者任意组合  \n",
    "支持任意网络架构：多输入或多输出、层共享、模型共享等"
   ]
  },
  {
   "cell_type": "markdown",
   "metadata": {},
   "source": [
    "### 3.2.1 Keras、Tensorflow、Theano和CNTK\n",
    "目前Keras有三个后端实现：Tensorflow后端（Google）、Theano后端（蒙特利尔大学）、CNTK（Microsoft）。  \n",
    "其中在Tensorflow的GPU上运行时叫做NVIDIA CUDA（cuDNN）"
   ]
  },
  {
   "cell_type": "markdown",
   "metadata": {},
   "source": [
    "### 3.2.2 使用Keras开发：概述"
   ]
  },
  {
   "cell_type": "code",
   "execution_count": 9,
   "metadata": {
    "collapsed": false
   },
   "outputs": [],
   "source": [
    "from keras import models\n",
    "from keras import layers\n",
    "\n",
    "model = models.Sequential()\n",
    "model.add(layers.Dense(32, activation = 'relu', input_shape=(784,)))\n",
    "model.add(layers.Dense(10, activation = 'softmax'))\n",
    "\n",
    "# 下面是用函数式API定义的相同模型\n",
    "input_tensor = layers.Input(shape = (784, ))\n",
    "x = layers.Dense(32, activation = 'relu')(input_tensor)\n",
    "output_tensor = layers.Dense(10, activation = 'softmax')(x)\n",
    "\n",
    "model = models.Model(inputs = input_tensor, outputs = output_tensor)"
   ]
  },
  {
   "cell_type": "code",
   "execution_count": 13,
   "metadata": {
    "collapsed": false
   },
   "outputs": [],
   "source": [
    "from keras import optimizers\n",
    "\n",
    "model.compile(optimizer = optimizers.RMSprop(lr = 0.001),\n",
    "             loss = 'mse',\n",
    "             metrics = ['accuracy'])"
   ]
  },
  {
   "cell_type": "code",
   "execution_count": null,
   "metadata": {
    "collapsed": true
   },
   "outputs": [],
   "source": [
    "model.fit(input_tensor, target_tensor, batch_size = 128, epochs = 10)"
   ]
  },
  {
   "cell_type": "markdown",
   "metadata": {},
   "source": [
    "## 3.3 建立深度学习工作站\n",
    "安装GPU\n",
    "这里推荐我写的另一篇blog："
   ]
  },
  {
   "cell_type": "markdown",
   "metadata": {},
   "source": [
    "## 3.4 电影评论分类：二分类问题\n",
    "### 3.4.1 IMDB数据集\n",
    "来自互联网电影数据库50000条严重两极分化的评论。训练和测试各25000条。"
   ]
  },
  {
   "cell_type": "code",
   "execution_count": 6,
   "metadata": {
    "collapsed": false
   },
   "outputs": [
    {
     "name": "stdout",
     "output_type": "stream",
     "text": [
      "[1, 14, 22, 16, 43, 530, 973, 1622, 1385, 65, 458, 4468, 66, 3941, 4, 173, 36, 256, 5, 25, 100, 43, 838, 112, 50, 670, 2, 9, 35, 480, 284, 5, 150, 4, 172, 112, 167, 2, 336, 385, 39, 4, 172, 4536, 1111, 17, 546, 38, 13, 447, 4, 192, 50, 16, 6, 147, 2025, 19, 14, 22, 4, 1920, 4613, 469, 4, 22, 71, 87, 12, 16, 43, 530, 38, 76, 15, 13, 1247, 4, 22, 17, 515, 17, 12, 16, 626, 18, 2, 5, 62, 386, 12, 8, 316, 8, 106, 5, 4, 2223, 5244, 16, 480, 66, 3785, 33, 4, 130, 12, 16, 38, 619, 5, 25, 124, 51, 36, 135, 48, 25, 1415, 33, 6, 22, 12, 215, 28, 77, 52, 5, 14, 407, 16, 82, 2, 8, 4, 107, 117, 5952, 15, 256, 4, 2, 7, 3766, 5, 723, 36, 71, 43, 530, 476, 26, 400, 317, 46, 7, 4, 2, 1029, 13, 104, 88, 4, 381, 15, 297, 98, 32, 2071, 56, 26, 141, 6, 194, 7486, 18, 4, 226, 22, 21, 134, 476, 26, 480, 5, 144, 30, 5535, 18, 51, 36, 28, 224, 92, 25, 104, 4, 226, 65, 16, 38, 1334, 88, 12, 16, 283, 5, 16, 4472, 113, 103, 32, 15, 16, 5345, 19, 178, 32]\n",
      "1\n"
     ]
    }
   ],
   "source": [
    "# 3-1 加载IMDB数据库\n",
    "from keras.datasets import imdb\n",
    "(train_data, train_labels), (test_data, test_labels) = imdb.load_data(num_words=10000)\n",
    "print(train_data[0])\n",
    "print(train_labels[0])\n",
    "\n",
    "# 可以迅速把某条评论解码为英文单词\n",
    "word_index = imdb.get_word_index()\n",
    "reverse_word_index = dict(\n",
    "    [(value, key) for (key, value) in word_index.items()])\n",
    "decoded_review = ' '.join(\n",
    "    [reverse_word_index.get(i - 3, '?') for i in train_data[0]])"
   ]
  },
  {
   "cell_type": "markdown",
   "metadata": {},
   "source": [
    "### 3.4.2 准备数据\n",
    "填充列表，使其具有相同的长度（samples, word_indices）  \n",
    "对列表进行one-hot编码，使其转换为0或1组成的向量"
   ]
  },
  {
   "cell_type": "code",
   "execution_count": 7,
   "metadata": {
    "collapsed": false
   },
   "outputs": [
    {
     "name": "stdout",
     "output_type": "stream",
     "text": [
      "[0. 1. 1. ... 0. 0. 0.]\n"
     ]
    }
   ],
   "source": [
    "# 3-2 将整数序列编码为二进制矩阵\n",
    "import numpy as np\n",
    "\n",
    "def vectorize_sequences(sequences, dimension = 10000):\n",
    "    results = np.zeros((len(sequences), dimension))\n",
    "    for i, sequence in enumerate(sequences):\n",
    "        results[i, sequence] = 1.\n",
    "    return results\n",
    "\n",
    "x_train = vectorize_sequences(train_data)\n",
    "x_test = vectorize_sequences(test_data)\n",
    "\n",
    "print(x_train[0])\n",
    "y_train = np.asarray(train_labels).astype('float32')\n",
    "y_test = np.asarray(test_labels).astype('float32')"
   ]
  },
  {
   "cell_type": "markdown",
   "metadata": {},
   "source": [
    "### 3.4.3 构建网络\n"
   ]
  },
  {
   "cell_type": "code",
   "execution_count": 8,
   "metadata": {
    "collapsed": false
   },
   "outputs": [],
   "source": [
    "# 3-3 模型定义\n",
    "from keras import models \n",
    "from keras import layers\n",
    "\n",
    "# 序列数据\n",
    "model = models.Sequential()\n",
    "\n",
    "#使用两个中间层，没吃呢个16个隐藏单元\n",
    "model.add(layers.Dense(16, activation = 'relu', input_shape = (10000,) ))\n",
    "model.add(layers.Dense(16, activation = 'relu'))\n",
    "\n",
    "# 用sigmoid对最后一层激活输出一个0-1范围内概率值\n",
    "model.add(layers.Dense(1, activation = 'sigmoid'))"
   ]
  },
  {
   "cell_type": "markdown",
   "metadata": {},
   "source": [
    "在编译器处选择优化器和激活函数，这里使用RMSProp优化器和binary_crossentropy损失函数来配置模型"
   ]
  },
  {
   "cell_type": "code",
   "execution_count": 9,
   "metadata": {
    "collapsed": true
   },
   "outputs": [],
   "source": [
    "# 3-4 编译模型\n",
    "model.compile(optimizer = 'rmsprop',\n",
    "             loss = 'binary_crossentropy',\n",
    "             metrics = ['accuracy'])"
   ]
  },
  {
   "cell_type": "code",
   "execution_count": 11,
   "metadata": {
    "collapsed": true
   },
   "outputs": [],
   "source": [
    "# 3-5 配置优化器\n",
    "from keras import optimizers\n",
    "\n",
    "model.compile(optimizer = optimizers.RMSprop(lr = 0.001),\n",
    "             loss = 'binary_crossentropy',\n",
    "             metrics = ['accuracy'])\n",
    "\n",
    "# 3-6 使用自定义的损失和指标\n",
    "from keras import losses\n",
    "from keras import metrics\n",
    "\n",
    "model.compile(optimizer = optimizers.RMSprop(lr = 0.001),\n",
    "             loss = losses.binary_crossentropy,\n",
    "             metrics = [metrics.binary_accuracy])"
   ]
  },
  {
   "cell_type": "markdown",
   "metadata": {},
   "source": [
    "### 3.4.4 验证你的方法\n",
    "为了监控训练过程中在未见数据集上的精度，需要将原始训练的数据留出10000个样本作为验证集。"
   ]
  },
  {
   "cell_type": "code",
   "execution_count": 12,
   "metadata": {
    "collapsed": false
   },
   "outputs": [],
   "source": [
    "# 3-7 留出验证集\n",
    "x_val = x_train[:10000]\n",
    "partial_x_train = x_train[10000:]\n",
    "\n",
    "y_val = y_train[:10000]\n",
    "partial_y_train = y_train[10000:]"
   ]
  },
  {
   "cell_type": "code",
   "execution_count": 13,
   "metadata": {
    "collapsed": false
   },
   "outputs": [
    {
     "name": "stdout",
     "output_type": "stream",
     "text": [
      "Train on 15000 samples, validate on 10000 samples\n",
      "Epoch 1/20\n",
      "15000/15000 [==============================] - 4s 299us/step - loss: 0.5084 - acc: 0.7813 - val_loss: 0.3797 - val_acc: 0.8684\n",
      "Epoch 2/20\n",
      "15000/15000 [==============================] - 3s 217us/step - loss: 0.3004 - acc: 0.9047 - val_loss: 0.3004 - val_acc: 0.8897\n",
      "Epoch 3/20\n",
      "15000/15000 [==============================] - 3s 223us/step - loss: 0.2179 - acc: 0.9286 - val_loss: 0.3087 - val_acc: 0.8711\n",
      "Epoch 4/20\n",
      "15000/15000 [==============================] - 3s 228us/step - loss: 0.1750 - acc: 0.9438 - val_loss: 0.2840 - val_acc: 0.8832\n",
      "Epoch 5/20\n",
      "15000/15000 [==============================] - 4s 235us/step - loss: 0.1427 - acc: 0.9542 - val_loss: 0.2841 - val_acc: 0.8871\n",
      "Epoch 6/20\n",
      "15000/15000 [==============================] - 3s 224us/step - loss: 0.1150 - acc: 0.9651 - val_loss: 0.3162 - val_acc: 0.8770\n",
      "Epoch 7/20\n",
      "15000/15000 [==============================] - 3s 232us/step - loss: 0.0979 - acc: 0.9707 - val_loss: 0.3128 - val_acc: 0.8846\n",
      "Epoch 8/20\n",
      "15000/15000 [==============================] - 3s 211us/step - loss: 0.0807 - acc: 0.9764 - val_loss: 0.3858 - val_acc: 0.8649\n",
      "Epoch 9/20\n",
      "15000/15000 [==============================] - 3s 220us/step - loss: 0.0661 - acc: 0.9821 - val_loss: 0.3636 - val_acc: 0.8780\n",
      "Epoch 10/20\n",
      "15000/15000 [==============================] - 3s 217us/step - loss: 0.0562 - acc: 0.9851 - val_loss: 0.3842 - val_acc: 0.8796\n",
      "Epoch 11/20\n",
      "15000/15000 [==============================] - 4s 239us/step - loss: 0.0436 - acc: 0.9899 - val_loss: 0.4149 - val_acc: 0.8784\n",
      "Epoch 12/20\n",
      "15000/15000 [==============================] - 4s 260us/step - loss: 0.0380 - acc: 0.9920 - val_loss: 0.4546 - val_acc: 0.8682\n",
      "Epoch 13/20\n",
      "15000/15000 [==============================] - 3s 231us/step - loss: 0.0300 - acc: 0.9927 - val_loss: 0.4701 - val_acc: 0.8728\n",
      "Epoch 14/20\n",
      "15000/15000 [==============================] - 3s 219us/step - loss: 0.0247 - acc: 0.9946 - val_loss: 0.5026 - val_acc: 0.8720\n",
      "Epoch 15/20\n",
      "15000/15000 [==============================] - 3s 228us/step - loss: 0.0183 - acc: 0.9972 - val_loss: 0.5306 - val_acc: 0.8705\n",
      "Epoch 16/20\n",
      "15000/15000 [==============================] - 3s 229us/step - loss: 0.0179 - acc: 0.9961 - val_loss: 0.5638 - val_acc: 0.8700\n",
      "Epoch 17/20\n",
      "15000/15000 [==============================] - 3s 213us/step - loss: 0.0108 - acc: 0.9992 - val_loss: 0.6006 - val_acc: 0.8673\n",
      "Epoch 18/20\n",
      "15000/15000 [==============================] - 3s 221us/step - loss: 0.0130 - acc: 0.9971 - val_loss: 0.6334 - val_acc: 0.8671\n",
      "Epoch 19/20\n",
      "15000/15000 [==============================] - 3s 224us/step - loss: 0.0063 - acc: 0.9995 - val_loss: 0.7277 - val_acc: 0.8556\n",
      "Epoch 20/20\n",
      "15000/15000 [==============================] - 3s 229us/step - loss: 0.0052 - acc: 0.9998 - val_loss: 0.7243 - val_acc: 0.8603\n"
     ]
    }
   ],
   "source": [
    "# 3-8 训练模型\n",
    "model.compile(optimizer = 'rmsprop',\n",
    "             loss = 'binary_crossentropy',\n",
    "             metrics = ['acc'])\n",
    "\n",
    "history = model.fit(partial_x_train,\n",
    "                   partial_y_train,\n",
    "                   epochs = 20,\n",
    "                   batch_size = 512,\n",
    "                   validation_data = (x_val, y_val))"
   ]
  },
  {
   "cell_type": "code",
   "execution_count": 14,
   "metadata": {
    "collapsed": false
   },
   "outputs": [
    {
     "data": {
      "text/plain": [
       "dict_keys(['val_acc', 'acc', 'val_loss', 'loss'])"
      ]
     },
     "execution_count": 14,
     "metadata": {},
     "output_type": "execute_result"
    }
   ],
   "source": [
    "history_dict = history.history\n",
    "history_dict.keys()"
   ]
  },
  {
   "cell_type": "code",
   "execution_count": 20,
   "metadata": {
    "collapsed": false
   },
   "outputs": [
    {
     "data": {
      "image/png": "[encoded data removed]",
      "text/plain": [
       "<matplotlib.figure.Figure at 0x2308fc312e8>"
      ]
     },
     "metadata": {},
     "output_type": "display_data"
    }
   ],
   "source": [
    "# 3-9 绘制训练损失和验证损失\n",
    "import matplotlib.pyplot as plt\n",
    "\n",
    "history_dict = history.history\n",
    "loss_values = history_dict['loss']\n",
    "val_loss_values = history_dict['val_loss']\n",
    "\n",
    "epochs = range(1, len(loss_values) + 1)\n",
    "\n",
    "plt.plot(epochs, loss_values, 'bo', label = 'Training loss')\n",
    "plt.plot(epochs, val_loss_values, 'b', label = 'Validation loss')\n",
    "plt.title('Training and Validation loss')\n",
    "plt.xlabel('Epochs')\n",
    "plt.ylabel('Loss')\n",
    "plt.legend()\n",
    "plt.show()\n"
   ]
  },
  {
   "cell_type": "code",
   "execution_count": 21,
   "metadata": {
    "collapsed": false
   },
   "outputs": [
    {
     "data": {
      "image/png": "[encoded data removed]",
      "text/plain": [
       "<matplotlib.figure.Figure at 0x2308fc31208>"
      ]
     },
     "metadata": {},
     "output_type": "display_data"
    }
   ],
   "source": [
    "# 3-10 绘制训练精度和验证精度\n",
    "plt.clf()\n",
    "acc = history_dict['acc']\n",
    "val_acc = history_dict['val_acc']\n",
    "\n",
    "plt.plot(epochs, acc, 'bo', label = 'Training acc')\n",
    "plt.plot(epochs, val_acc, 'b', label = 'Validation acc')\n",
    "plt.title('Training and Validation accuracy')\n",
    "plt.xlabel('Epochs')\n",
    "plt.ylabel('Accuracy')\n",
    "plt.legend()\n",
    "\n",
    "plt.show()"
   ]
  },
  {
   "cell_type": "markdown",
   "metadata": {},
   "source": [
    "可以发现在第二轮后，模型在训练数据上精度很高，但是在验证精度上并非如此，此时是过拟合现象（overfit）"
   ]
  },
  {
   "cell_type": "code",
   "execution_count": 23,
   "metadata": {
    "collapsed": false
   },
   "outputs": [
    {
     "name": "stdout",
     "output_type": "stream",
     "text": [
      "Epoch 1/4\n",
      "25000/25000 [==============================] - 7s 287us/step - loss: 0.4574 - acc: 0.8247\n",
      "Epoch 2/4\n",
      "25000/25000 [==============================] - 4s 157us/step - loss: 0.2641 - acc: 0.9082\n",
      "Epoch 3/4\n",
      "25000/25000 [==============================] - 4s 144us/step - loss: 0.2039 - acc: 0.9282\n",
      "Epoch 4/4\n",
      "25000/25000 [==============================] - 4s 147us/step - loss: 0.1699 - acc: 0.9398\n",
      "25000/25000 [==============================] - 7s 295us/step\n",
      "[0.28807684420585633, 0.88504]\n"
     ]
    }
   ],
   "source": [
    "# 3-11 从头开始训练一个模型\n",
    "model = models.Sequential()\n",
    "model.add(layers.Dense(16, activation = 'relu', input_shape=(10000,)))\n",
    "model.add(layers.Dense(16, activation='relu'))\n",
    "model.add(layers.Dense(1, activation='sigmoid'))\n",
    "\n",
    "model.compile(optimizer='rmsprop',\n",
    "             loss='binary_crossentropy',\n",
    "             metrics = ['accuracy'])\n",
    "\n",
    "model.fit(x_train, y_train, epochs=4, batch_size=512)\n",
    "results = model.evaluate(x_test, y_test)\n",
    "print(results)"
   ]
  },
  {
   "cell_type": "markdown",
   "metadata": {},
   "source": [
    "### 3.4.5 使用训练好的网络在新数据上生成预测结果\n"
   ]
  },
  {
   "cell_type": "code",
   "execution_count": 24,
   "metadata": {
    "collapsed": false
   },
   "outputs": [
    {
     "data": {
      "text/plain": [
       "array([[0.23583308],\n",
       "       [0.99974436],\n",
       "       [0.85348594],\n",
       "       ...,\n",
       "       [0.12692562],\n",
       "       [0.06978337],\n",
       "       [0.6001638 ]], dtype=float32)"
      ]
     },
     "execution_count": 24,
     "metadata": {},
     "output_type": "execute_result"
    }
   ],
   "source": [
    "model.predict(x_test)"
   ]
  },
  {
   "cell_type": "markdown",
   "metadata": {},
   "source": [
    "### 3.4.6 进一步实验\n",
    "可以尝试使用一个或者三个隐藏层  \n",
    "尝试使用更多或者更少的隐藏单元，比如32个、64个  \n",
    "尝试使用mse损失函数代替binary_crossentropy  \n",
    "尝试使用tanh激活代替relu"
   ]
  },
  {
   "cell_type": "code",
   "execution_count": 28,
   "metadata": {
    "collapsed": false
   },
   "outputs": [
    {
     "name": "stdout",
     "output_type": "stream",
     "text": [
      "Epoch 1/4\n",
      "25000/25000 [==============================] - 4s 163us/step - loss: 0.4897 - acc: 0.8152\n",
      "Epoch 2/4\n",
      "25000/25000 [==============================] - 4s 145us/step - loss: 0.2659 - acc: 0.9089\n",
      "Epoch 3/4\n",
      "25000/25000 [==============================] - 4s 145us/step - loss: 0.1989 - acc: 0.9281\n",
      "Epoch 4/4\n",
      "25000/25000 [==============================] - 4s 145us/step - loss: 0.1640 - acc: 0.9418\n",
      "25000/25000 [==============================] - 4s 159us/step\n",
      "[0.32349896079063417, 0.87648]\n",
      "Epoch 1/4\n",
      "25000/25000 [==============================] - 4s 164us/step - loss: 0.4463 - acc: 0.8278\n",
      "Epoch 2/4\n",
      "25000/25000 [==============================] - 4s 145us/step - loss: 0.2716 - acc: 0.9082\n",
      "Epoch 3/4\n",
      "25000/25000 [==============================] - 4s 148us/step - loss: 0.2153 - acc: 0.9263\n",
      "Epoch 4/4\n",
      "25000/25000 [==============================] - 4s 149us/step - loss: 0.1834 - acc: 0.9375\n",
      "25000/25000 [==============================] - 4s 159us/step\n",
      "[0.2889633750629425, 0.88392]\n"
     ]
    }
   ],
   "source": [
    "# 使用三个隐藏层\n",
    "model1 = models.Sequential()\n",
    "model1.add(layers.Dense(16, activation = 'relu', input_shape=(10000,)))\n",
    "model1.add(layers.Dense(16, activation='relu'))\n",
    "model1.add(layers.Dense(16, activation='relu'))\n",
    "model1.add(layers.Dense(1, activation='sigmoid'))\n",
    "\n",
    "model1.compile(optimizer='rmsprop',\n",
    "             loss='binary_crossentropy',\n",
    "             metrics = ['accuracy'])\n",
    "\n",
    "model1.fit(x_train, y_train, epochs=4, batch_size=512)\n",
    "results1 = model1.evaluate(x_test, y_test)\n",
    "print(results1)\n",
    "\n",
    "# 使用一个隐藏层\n",
    "model2 = models.Sequential()\n",
    "model2.add(layers.Dense(16, activation = 'relu', input_shape=(10000,)))\n",
    "model2.add(layers.Dense(1, activation='sigmoid'))\n",
    "\n",
    "model2.compile(optimizer='rmsprop',\n",
    "             loss='binary_crossentropy',\n",
    "             metrics = ['accuracy'])\n",
    "\n",
    "model2.fit(x_train, y_train, epochs=4, batch_size=512)\n",
    "results2 = model2.evaluate(x_test, y_test)\n",
    "print(results2)"
   ]
  },
  {
   "cell_type": "markdown",
   "metadata": {},
   "source": [
    "可以看到使用了三个隐藏层过拟合了。"
   ]
  },
  {
   "cell_type": "code",
   "execution_count": 29,
   "metadata": {
    "collapsed": false
   },
   "outputs": [
    {
     "name": "stdout",
     "output_type": "stream",
     "text": [
      "Epoch 1/4\n",
      "25000/25000 [==============================] - 5s 187us/step - loss: 0.4277 - acc: 0.8172\n",
      "Epoch 2/4\n",
      "25000/25000 [==============================] - 4s 163us/step - loss: 0.2427 - acc: 0.9098\n",
      "Epoch 3/4\n",
      "25000/25000 [==============================] - 4s 160us/step - loss: 0.1884 - acc: 0.9322\n",
      "Epoch 4/4\n",
      "25000/25000 [==============================] - 4s 162us/step - loss: 0.1610 - acc: 0.9409\n",
      "25000/25000 [==============================] - 4s 172us/step\n",
      "[0.3107045688867569, 0.88012]\n",
      "Epoch 1/4\n",
      "25000/25000 [==============================] - 5s 215us/step - loss: 0.4135 - acc: 0.8197\n",
      "Epoch 2/4\n",
      "25000/25000 [==============================] - 5s 208us/step - loss: 0.2400 - acc: 0.9113\n",
      "Epoch 3/4\n",
      "25000/25000 [==============================] - 5s 197us/step - loss: 0.1894 - acc: 0.9300\n",
      "Epoch 4/4\n",
      "25000/25000 [==============================] - 5s 186us/step - loss: 0.1613 - acc: 0.9420\n",
      "25000/25000 [==============================] - 5s 213us/step\n",
      "[0.305362302441597, 0.88064]\n"
     ]
    }
   ],
   "source": [
    "# 使用三个隐藏层\n",
    "model1 = models.Sequential()\n",
    "model1.add(layers.Dense(32, activation = 'relu', input_shape=(10000,)))\n",
    "model1.add(layers.Dense(32, activation='relu'))\n",
    "model1.add(layers.Dense(1, activation='sigmoid'))\n",
    "\n",
    "model1.compile(optimizer='rmsprop',\n",
    "             loss='binary_crossentropy',\n",
    "             metrics = ['accuracy'])\n",
    "\n",
    "model1.fit(x_train, y_train, epochs=4, batch_size=512)\n",
    "results1 = model1.evaluate(x_test, y_test)\n",
    "print(results1)\n",
    "\n",
    "# 使用一个隐藏层\n",
    "model2 = models.Sequential()\n",
    "model2.add(layers.Dense(64, activation = 'relu', input_shape=(10000,)))\n",
    "model1.add(layers.Dense(64, activation='relu'))\n",
    "model2.add(layers.Dense(1, activation='sigmoid'))\n",
    "\n",
    "model2.compile(optimizer='rmsprop',\n",
    "             loss='binary_crossentropy',\n",
    "             metrics = ['accuracy'])\n",
    "\n",
    "model2.fit(x_train, y_train, epochs=4, batch_size=512)\n",
    "results2 = model2.evaluate(x_test, y_test)\n",
    "print(results2)"
   ]
  },
  {
   "cell_type": "code",
   "execution_count": 30,
   "metadata": {
    "collapsed": false
   },
   "outputs": [
    {
     "name": "stdout",
     "output_type": "stream",
     "text": [
      "Epoch 1/4\n",
      "25000/25000 [==============================] - 4s 166us/step - loss: 0.1443 - acc: 0.8232\n",
      "Epoch 2/4\n",
      "25000/25000 [==============================] - 4s 142us/step - loss: 0.0772 - acc: 0.9096\n",
      "Epoch 3/4\n",
      "25000/25000 [==============================] - 4s 150us/step - loss: 0.0590 - acc: 0.9298\n",
      "Epoch 4/4\n",
      "25000/25000 [==============================] - 4s 155us/step - loss: 0.0480 - acc: 0.9436\n",
      "25000/25000 [==============================] - 4s 165us/step\n",
      "[0.08538210510015487, 0.88408]\n"
     ]
    }
   ],
   "source": [
    "model = models.Sequential()\n",
    "model.add(layers.Dense(16, activation = 'relu', input_shape=(10000,)))\n",
    "model.add(layers.Dense(16, activation='relu'))\n",
    "model.add(layers.Dense(1, activation='sigmoid'))\n",
    "\n",
    "model.compile(optimizer='rmsprop',\n",
    "             loss='mse',\n",
    "             metrics = ['accuracy'])\n",
    "\n",
    "model.fit(x_train, y_train, epochs=4, batch_size=512)\n",
    "results = model.evaluate(x_test, y_test)\n",
    "print(results)"
   ]
  },
  {
   "cell_type": "code",
   "execution_count": 31,
   "metadata": {
    "collapsed": false
   },
   "outputs": [
    {
     "name": "stdout",
     "output_type": "stream",
     "text": [
      "Epoch 1/4\n",
      "25000/25000 [==============================] - 5s 187us/step - loss: 0.4348 - acc: 0.8314\n",
      "Epoch 2/4\n",
      "25000/25000 [==============================] - 4s 161us/step - loss: 0.2380 - acc: 0.9133\n",
      "Epoch 3/4\n",
      "25000/25000 [==============================] - 4s 154us/step - loss: 0.1798 - acc: 0.9348\n",
      "Epoch 4/4\n",
      "25000/25000 [==============================] - 4s 148us/step - loss: 0.1462 - acc: 0.9466\n",
      "25000/25000 [==============================] - 4s 156us/step\n",
      "[0.3290252224183083, 0.87604]\n"
     ]
    }
   ],
   "source": [
    "model = models.Sequential()\n",
    "model.add(layers.Dense(16, activation = 'tanh', input_shape=(10000,)))\n",
    "model.add(layers.Dense(16, activation='tanh'))\n",
    "model.add(layers.Dense(1, activation='sigmoid'))\n",
    "\n",
    "model.compile(optimizer='rmsprop',\n",
    "             loss='binary_crossentropy',\n",
    "             metrics = ['accuracy'])\n",
    "\n",
    "model.fit(x_train, y_train, epochs=4, batch_size=512)\n",
    "results = model.evaluate(x_test, y_test)\n",
    "print(results)"
   ]
  },
  {
   "cell_type": "markdown",
   "metadata": {},
   "source": [
    "## 3.5 新闻分类：多分类问题\n",
    "### 3.5.1 路透社数据集\n",
    "数据包含许多短新闻及对应的主题。"
   ]
  },
  {
   "cell_type": "code",
   "execution_count": 75,
   "metadata": {
    "collapsed": false
   },
   "outputs": [
    {
     "name": "stdout",
     "output_type": "stream",
     "text": [
      "8982\n",
      "2246\n"
     ]
    }
   ],
   "source": [
    "# 3-12 加载路透社数据集\n",
    "from keras.datasets import reuters\n",
    "(train_data, train_labels), (test_data, test_labels) = reuters.load_data(num_words=10000)\n",
    "\n",
    "print(len(train_data))\n",
    "print(len(test_data))"
   ]
  },
  {
   "cell_type": "code",
   "execution_count": 76,
   "metadata": {
    "collapsed": false
   },
   "outputs": [],
   "source": [
    "# 3-13 将索引解码为新闻文本\n",
    "word_index = reuters.get_word_index()\n",
    "reverse_word_index = dict([(value, key) for (key, value) in word_index.items()])\n",
    "decoded_newswire = ''.join([reverse_word_index.get(i - 3, '?') for i in train_data[0]])"
   ]
  },
  {
   "cell_type": "markdown",
   "metadata": {},
   "source": [
    "### 3.5.2 准备数据\n",
    "将测试数据和训练数据向量化"
   ]
  },
  {
   "cell_type": "code",
   "execution_count": 77,
   "metadata": {
    "collapsed": true
   },
   "outputs": [],
   "source": [
    "# 3-14 编码数据\n",
    "import numpy as np\n",
    "\n",
    "def vetorize_sequences(sequences, dimension = 10000):\n",
    "    results = np.zeros((len(sequences), dimension))\n",
    "    for i, sequence in enumerate(sequences):\n",
    "        results[i, sequence] = 1\n",
    "    return results\n",
    "\n",
    "x_train = vectorize_sequences(train_data)\n",
    "x_test = vectorize_sequences(test_data)"
   ]
  },
  {
   "cell_type": "markdown",
   "metadata": {},
   "source": [
    "one-hot 编码"
   ]
  },
  {
   "cell_type": "code",
   "execution_count": 82,
   "metadata": {
    "collapsed": false
   },
   "outputs": [
    {
     "data": {
      "text/plain": [
       "'\\nfrom keras.utils.np_utils import to_categorical\\n\\none_hot_train_labels = to_categorical(train_labels)\\nont_hot_test_labels = to_categorical(test_labels)\\n'"
      ]
     },
     "execution_count": 82,
     "metadata": {},
     "output_type": "execute_result"
    }
   ],
   "source": [
    "def to_one_hot(labels, dimension = 46):\n",
    "    results = np.zeros((len(labels), dimension))\n",
    "    for i,label in enumerate(labels):\n",
    "        results[i, label] = 1\n",
    "    return results\n",
    "\n",
    "# 使用one-hot编码来作为标签列表的分类编码\n",
    "one_hot_train_labels = to_one_hot(train_labels)\n",
    "one_hot_test_labels = to_one_hot(test_labels)\n",
    "\n",
    "# 使用to_categorical将标签向量化\n",
    "'''\n",
    "from keras.utils.np_utils import to_categorical\n",
    "\n",
    "one_hot_train_labels = to_categorical(train_labels)\n",
    "ont_hot_test_labels = to_categorical(test_labels)\n",
    "'''"
   ]
  },
  {
   "cell_type": "markdown",
   "metadata": {},
   "source": [
    "### 3.5.3 构建网络\n",
    "从imdb的二分类变成现在46分类，每层使用64个单元。"
   ]
  },
  {
   "cell_type": "code",
   "execution_count": 67,
   "metadata": {
    "collapsed": false
   },
   "outputs": [],
   "source": [
    "# 3-15 模型定义\n",
    "from keras import models \n",
    "from keras import layers\n",
    "\n",
    "model = models.Sequential()\n",
    "model.add(layers.Dense(64, activation = 'relu', input_shape = (10000,)))\n",
    "model.add(layers.Dense(64, activation = 'relu'))\n",
    "model.add(layers.Dense(46, activation = 'softmax'))"
   ]
  },
  {
   "cell_type": "code",
   "execution_count": 68,
   "metadata": {
    "collapsed": true
   },
   "outputs": [],
   "source": [
    "# 3-16 编译模型\n",
    "model.compile(optimizer = 'rmsprop',\n",
    "              loss = 'categorical_crossentropy',\n",
    "              metrics = ['accuracy'])"
   ]
  },
  {
   "cell_type": "markdown",
   "metadata": {},
   "source": [
    "### 3.5.4 验证你的方法"
   ]
  },
  {
   "cell_type": "code",
   "execution_count": 69,
   "metadata": {
    "collapsed": true
   },
   "outputs": [],
   "source": [
    "# 3-17 留出验证集\n",
    "x_val = x_train[:1000]\n",
    "partial_x_train = x_train[1000:]\n",
    "\n",
    "y_val = one_hot_train_labels[:1000]\n",
    "partial_y_train = one_hot_train_labels[1000:]"
   ]
  },
  {
   "cell_type": "code",
   "execution_count": 70,
   "metadata": {
    "collapsed": false
   },
   "outputs": [
    {
     "name": "stdout",
     "output_type": "stream",
     "text": [
      "Train on 7982 samples, validate on 1000 samples\n",
      "Epoch 1/20\n",
      "7982/7982 [==============================] - 3s 385us/step - loss: 2.6455 - acc: 0.4762 - val_loss: 1.7351 - val_acc: 0.6490\n",
      "Epoch 2/20\n",
      "7982/7982 [==============================] - 2s 240us/step - loss: 1.4111 - acc: 0.7086 - val_loss: 1.2963 - val_acc: 0.7260\n",
      "Epoch 3/20\n",
      "7982/7982 [==============================] - 2s 219us/step - loss: 1.0418 - acc: 0.7811 - val_loss: 1.1148 - val_acc: 0.7620\n",
      "Epoch 4/20\n",
      "7982/7982 [==============================] - 2s 234us/step - loss: 0.8233 - acc: 0.8234 - val_loss: 1.0309 - val_acc: 0.7700\n",
      "Epoch 5/20\n",
      "7982/7982 [==============================] - 2s 219us/step - loss: 0.6585 - acc: 0.8588 - val_loss: 0.9651 - val_acc: 0.7870\n",
      "Epoch 6/20\n",
      "7982/7982 [==============================] - 2s 217us/step - loss: 0.5268 - acc: 0.8920 - val_loss: 0.9086 - val_acc: 0.8130\n",
      "Epoch 7/20\n",
      "7982/7982 [==============================] - 2s 231us/step - loss: 0.4252 - acc: 0.9114 - val_loss: 0.8955 - val_acc: 0.8190\n",
      "Epoch 8/20\n",
      "7982/7982 [==============================] - 2s 237us/step - loss: 0.3452 - acc: 0.9245 - val_loss: 0.8693 - val_acc: 0.8250\n",
      "Epoch 9/20\n",
      "7982/7982 [==============================] - 2s 234us/step - loss: 0.2849 - acc: 0.9362 - val_loss: 0.8916 - val_acc: 0.8190\n",
      "Epoch 10/20\n",
      "7982/7982 [==============================] - 2s 248us/step - loss: 0.2441 - acc: 0.9445 - val_loss: 0.9173 - val_acc: 0.8020\n",
      "Epoch 11/20\n",
      "7982/7982 [==============================] - 2s 222us/step - loss: 0.2077 - acc: 0.9504 - val_loss: 0.8924 - val_acc: 0.8200\n",
      "Epoch 12/20\n",
      "7982/7982 [==============================] - 2s 236us/step - loss: 0.1834 - acc: 0.9523 - val_loss: 0.9502 - val_acc: 0.8030\n",
      "Epoch 13/20\n",
      "7982/7982 [==============================] - 2s 234us/step - loss: 0.1641 - acc: 0.9553 - val_loss: 0.9379 - val_acc: 0.8180\n",
      "Epoch 14/20\n",
      "7982/7982 [==============================] - 2s 235us/step - loss: 0.1505 - acc: 0.9559 - val_loss: 0.9535 - val_acc: 0.8150\n",
      "Epoch 15/20\n",
      "7982/7982 [==============================] - 2s 225us/step - loss: 0.1421 - acc: 0.9541 - val_loss: 0.9667 - val_acc: 0.8110\n",
      "Epoch 16/20\n",
      "7982/7982 [==============================] - 2s 244us/step - loss: 0.1262 - acc: 0.9574 - val_loss: 0.9694 - val_acc: 0.8140\n",
      "Epoch 17/20\n",
      "7982/7982 [==============================] - 2s 213us/step - loss: 0.1245 - acc: 0.9579 - val_loss: 1.0012 - val_acc: 0.8090\n",
      "Epoch 18/20\n",
      "7982/7982 [==============================] - 2s 211us/step - loss: 0.1195 - acc: 0.9557 - val_loss: 1.0649 - val_acc: 0.8050\n",
      "Epoch 19/20\n",
      "7982/7982 [==============================] - 2s 214us/step - loss: 0.1176 - acc: 0.9584 - val_loss: 1.1031 - val_acc: 0.7960\n",
      "Epoch 20/20\n",
      "7982/7982 [==============================] - 2s 207us/step - loss: 0.1075 - acc: 0.9593 - val_loss: 1.0812 - val_acc: 0.8010\n"
     ]
    }
   ],
   "source": [
    "# 3-18 训练模型\n",
    "history = model.fit(partial_x_train,\n",
    "                   partial_y_train,\n",
    "                   epochs = 20,\n",
    "                   batch_size = 512,\n",
    "                   validation_data=(x_val, y_val))"
   ]
  },
  {
   "cell_type": "code",
   "execution_count": 71,
   "metadata": {
    "collapsed": false
   },
   "outputs": [
    {
     "data": {
      "image/png": "[encoded data removed]",
      "text/plain": [
       "<matplotlib.figure.Figure at 0x2309db65780>"
      ]
     },
     "metadata": {},
     "output_type": "display_data"
    }
   ],
   "source": [
    "# 3-19 绘制训练损失和验证损失\n",
    "import matplotlib.pyplot as plt\n",
    "\n",
    "loss = history.history['loss']\n",
    "val_loss = history.history['val_loss']\n",
    "\n",
    "epochs = range(1, len(loss) + 1)\n",
    "\n",
    "plt.plot(epochs, loss, 'bo', label = 'Training loss')\n",
    "plt.plot(epochs, val_loss, 'b', label = 'Validation loss')\n",
    "plt.title('Training and Validation loss')\n",
    "plt.xlabel('Epochs')\n",
    "plt.ylabel('Loss')\n",
    "plt.legend()\n",
    "\n",
    "plt.show()"
   ]
  },
  {
   "cell_type": "code",
   "execution_count": 73,
   "metadata": {
    "collapsed": false,
    "scrolled": true
   },
   "outputs": [
    {
     "data": {
      "image/png": "[encoded data removed]",
      "text/plain": [
       "<matplotlib.figure.Figure at 0x2309db65470>"
      ]
     },
     "metadata": {},
     "output_type": "display_data"
    }
   ],
   "source": [
    "# 3-20 绘制训练精度和验证精度\n",
    "import matplotlib.pyplot as plt\n",
    "\n",
    "loss = history.history['acc']\n",
    "val_loss = history.history['val_acc']\n",
    "\n",
    "epochs = range(1, len(loss) + 1)\n",
    "\n",
    "plt.plot(epochs, acc, 'bo', label = 'Training acc')\n",
    "plt.plot(epochs, val_acc, 'b', label = 'Validation acc')\n",
    "plt.title('Training and Validation accuracy')\n",
    "plt.xlabel('Epochs')\n",
    "plt.ylabel('Accuracy')\n",
    "plt.legend()\n",
    "\n",
    "plt.show()"
   ]
  },
  {
   "cell_type": "code",
   "execution_count": 83,
   "metadata": {
    "collapsed": false
   },
   "outputs": [
    {
     "name": "stdout",
     "output_type": "stream",
     "text": [
      "Train on 7982 samples, validate on 1000 samples\n",
      "Epoch 1/9\n",
      "7982/7982 [==============================] - 3s 372us/step - loss: 2.5645 - acc: 0.5575 - val_loss: 1.6650 - val_acc: 0.6570\n",
      "Epoch 2/9\n",
      "7982/7982 [==============================] - 2s 223us/step - loss: 1.3612 - acc: 0.7180 - val_loss: 1.2470 - val_acc: 0.7130\n",
      "Epoch 3/9\n",
      "7982/7982 [==============================] - 2s 222us/step - loss: 1.0080 - acc: 0.7845 - val_loss: 1.0986 - val_acc: 0.7700\n",
      "Epoch 4/9\n",
      "7982/7982 [==============================] - 2s 227us/step - loss: 0.7974 - acc: 0.8282 - val_loss: 1.0051 - val_acc: 0.7840\n",
      "Epoch 5/9\n",
      "7982/7982 [==============================] - 2s 222us/step - loss: 0.6410 - acc: 0.8612 - val_loss: 0.9686 - val_acc: 0.7870\n",
      "Epoch 6/9\n",
      "7982/7982 [==============================] - 2s 225us/step - loss: 0.5116 - acc: 0.8903 - val_loss: 0.9069 - val_acc: 0.8070\n",
      "Epoch 7/9\n",
      "7982/7982 [==============================] - 2s 227us/step - loss: 0.4150 - acc: 0.9127 - val_loss: 0.8806 - val_acc: 0.8200\n",
      "Epoch 8/9\n",
      "7982/7982 [==============================] - 2s 219us/step - loss: 0.3349 - acc: 0.9303 - val_loss: 0.8767 - val_acc: 0.8150\n",
      "Epoch 9/9\n",
      "7982/7982 [==============================] - 2s 230us/step - loss: 0.2756 - acc: 0.9387 - val_loss: 0.8731 - val_acc: 0.8200\n",
      "2246/2246 [==============================] - 1s 245us/step\n"
     ]
    }
   ],
   "source": [
    "# 3-21 从头开始训练一个模型\n",
    "model = models.Sequential()\n",
    "model.add(layers.Dense(64, activation='relu', input_shape=(10000,)))\n",
    "model.add(layers.Dense(64, activation='relu'))\n",
    "model.add(layers.Dense(46, activation='softmax'))\n",
    "\n",
    "model.compile(optimizer = 'rmsprop',\n",
    "             loss = 'categorical_crossentropy',\n",
    "             metrics = ['accuracy'])\n",
    "\n",
    "model.fit(partial_x_train,\n",
    "         partial_y_train,\n",
    "         epochs=9,\n",
    "         batch_size=512,\n",
    "         validation_data=(x_val, y_val))\n",
    "\n",
    "results = model.evaluate(x_test, one_hot_test_labels)"
   ]
  },
  {
   "cell_type": "markdown",
   "metadata": {},
   "source": [
    "### 3.5.5 在新数据上生成预测结果\n",
    "predict（）"
   ]
  },
  {
   "cell_type": "code",
   "execution_count": 85,
   "metadata": {
    "collapsed": false
   },
   "outputs": [
    {
     "name": "stdout",
     "output_type": "stream",
     "text": [
      "(46,)\n",
      "0.9999998\n",
      "3\n"
     ]
    }
   ],
   "source": [
    "# 3-22 在新数据上生成预测结果\n",
    "predictions = model.predict(x_test)\n",
    "print(predictions[0].shape)\n",
    "print(np.sum(predictions[0]))\n",
    "print(np.argmax(predictions[0]))"
   ]
  },
  {
   "cell_type": "markdown",
   "metadata": {},
   "source": [
    "### 3.5.6 处理标签和损失的另一种方法"
   ]
  },
  {
   "cell_type": "code",
   "execution_count": 87,
   "metadata": {
    "collapsed": true
   },
   "outputs": [],
   "source": [
    "y_train = np.array(train_labels)\n",
    "y_test = np.array(test_labels)"
   ]
  },
  {
   "cell_type": "code",
   "execution_count": 88,
   "metadata": {
    "collapsed": true
   },
   "outputs": [],
   "source": [
    "model.compile(optimizer='rmsprop',\n",
    "             loss = 'sparse_categorical_crossentropy',\n",
    "             metrics=['acc'])"
   ]
  },
  {
   "cell_type": "markdown",
   "metadata": {},
   "source": [
    "### 3.5.7 中间层维度足够大的重要性"
   ]
  },
  {
   "cell_type": "code",
   "execution_count": 91,
   "metadata": {
    "collapsed": false
   },
   "outputs": [
    {
     "name": "stdout",
     "output_type": "stream",
     "text": [
      "Train on 7982 samples, validate on 1000 samples\n",
      "Epoch 1/20\n",
      "7982/7982 [==============================] - 4s 441us/step - loss: 3.4782 - acc: 0.3332 - val_loss: 3.1633 - val_acc: 0.4410\n",
      "Epoch 2/20\n",
      "7982/7982 [==============================] - 3s 331us/step - loss: 2.9968 - acc: 0.2744 - val_loss: 2.8621 - val_acc: 0.2320\n",
      "Epoch 3/20\n",
      "7982/7982 [==============================] - 3s 314us/step - loss: 2.7014 - acc: 0.2202 - val_loss: 2.5768 - val_acc: 0.2260\n",
      "Epoch 4/20\n",
      "7982/7982 [==============================] - 3s 328us/step - loss: 2.3254 - acc: 0.2472 - val_loss: 2.1544 - val_acc: 0.2540\n",
      "Epoch 5/20\n",
      "7982/7982 [==============================] - 2s 310us/step - loss: 1.9196 - acc: 0.3473 - val_loss: 1.8863 - val_acc: 0.4220\n",
      "Epoch 6/20\n",
      "7982/7982 [==============================] - 3s 314us/step - loss: 1.6662 - acc: 0.5342 - val_loss: 1.6426 - val_acc: 0.6290\n",
      "Epoch 7/20\n",
      "7982/7982 [==============================] - 3s 324us/step - loss: 1.3427 - acc: 0.6537 - val_loss: 1.4260 - val_acc: 0.6510\n",
      "Epoch 8/20\n",
      "7982/7982 [==============================] - 2s 297us/step - loss: 1.1259 - acc: 0.7155 - val_loss: 1.3410 - val_acc: 0.6930\n",
      "Epoch 9/20\n",
      "7982/7982 [==============================] - 2s 294us/step - loss: 0.9926 - acc: 0.7539 - val_loss: 1.3198 - val_acc: 0.6980\n",
      "Epoch 10/20\n",
      "7982/7982 [==============================] - 2s 300us/step - loss: 0.8937 - acc: 0.7759 - val_loss: 1.3035 - val_acc: 0.7090\n",
      "Epoch 11/20\n",
      "7982/7982 [==============================] - 2s 298us/step - loss: 0.8151 - acc: 0.7993 - val_loss: 1.3023 - val_acc: 0.7160\n",
      "Epoch 12/20\n",
      "7982/7982 [==============================] - 2s 303us/step - loss: 0.7520 - acc: 0.8143 - val_loss: 1.3356 - val_acc: 0.7160\n",
      "Epoch 13/20\n",
      "7982/7982 [==============================] - 2s 299us/step - loss: 0.7012 - acc: 0.8246 - val_loss: 1.3578 - val_acc: 0.7200\n",
      "Epoch 14/20\n",
      "7982/7982 [==============================] - 2s 298us/step - loss: 0.6606 - acc: 0.8309 - val_loss: 1.3662 - val_acc: 0.7230\n",
      "Epoch 15/20\n",
      "7982/7982 [==============================] - 2s 306us/step - loss: 0.6232 - acc: 0.8373 - val_loss: 1.4000 - val_acc: 0.7140\n",
      "Epoch 16/20\n",
      "7982/7982 [==============================] - 2s 304us/step - loss: 0.5912 - acc: 0.8418 - val_loss: 1.5018 - val_acc: 0.7130\n",
      "Epoch 17/20\n",
      "7982/7982 [==============================] - 2s 301us/step - loss: 0.5635 - acc: 0.8453 - val_loss: 1.4440 - val_acc: 0.7160\n",
      "Epoch 18/20\n",
      "7982/7982 [==============================] - 2s 299us/step - loss: 0.5404 - acc: 0.8498 - val_loss: 1.5008 - val_acc: 0.7170\n",
      "Epoch 19/20\n",
      "7982/7982 [==============================] - 3s 318us/step - loss: 0.5193 - acc: 0.8532 - val_loss: 1.5471 - val_acc: 0.7170\n",
      "Epoch 20/20\n",
      "7982/7982 [==============================] - 3s 316us/step - loss: 0.5005 - acc: 0.8582 - val_loss: 1.5473 - val_acc: 0.7200\n"
     ]
    },
    {
     "data": {
      "text/plain": [
       "<keras.callbacks.History at 0x230953c9978>"
      ]
     },
     "execution_count": 91,
     "metadata": {},
     "output_type": "execute_result"
    }
   ],
   "source": [
    "# 3-23 具有信息瓶颈足够大的重要性，中间层的单元一定要大于分类数\n",
    "model = models.Sequential()\n",
    "model.add(layers.Dense(64, activation = 'relu', input_shape=(10000,)))\n",
    "model.add(layers.Dense(4, activation = 'relu'))\n",
    "model.add(layers.Dense(46, activation = 'softmax'))\n",
    "\n",
    "model.compile(optimizer = 'rmsprop',\n",
    "             loss = 'categorical_crossentropy',\n",
    "             metrics=['accuracy'])\n",
    "\n",
    "model.fit(partial_x_train,\n",
    "         partial_y_train,\n",
    "         epochs = 20,\n",
    "         batch_size = 128,\n",
    "         validation_data = (x_val, y_val))"
   ]
  },
  {
   "cell_type": "markdown",
   "metadata": {},
   "source": [
    "### 3.5.8 进一步实验\n",
    "尝试使用更多或者更少的隐藏单元  \n",
    "使用一个或者三个隐藏层"
   ]
  },
  {
   "cell_type": "markdown",
   "metadata": {},
   "source": [
    "### 3.5.9 小结\n",
    "对N个类别的数据分类，网络最后一层应该是大小为N的Dense层  \n",
    "对于多标签问题，最后一层应该用softmax激活  \n",
    "使用分类交叉熵categorical_crossentropy  \n",
    "处理多分类问题的两种方法：    \n",
    "one-hot编码，categorical_crossentropy作为损失函数   \n",
    "将标签编码为整数，使用sparse_categorical_crossentropy为损失函数   \n",
    "如果有许多类别，应该避免使用太小的中间层，以免造成信息瓶颈"
   ]
  },
  {
   "cell_type": "markdown",
   "metadata": {},
   "source": [
    "## 3.6 预测房价：回归问题\n",
    "预测的是连续值，而不是离散的标签。"
   ]
  },
  {
   "cell_type": "markdown",
   "metadata": {},
   "source": [
    "### 3.6.1 波士顿房价数据集\n",
    "输入的数据每个特征是有不同的取值范围。"
   ]
  },
  {
   "cell_type": "code",
   "execution_count": 113,
   "metadata": {
    "collapsed": false
   },
   "outputs": [
    {
     "name": "stdout",
     "output_type": "stream",
     "text": [
      "(404, 13)\n",
      "(102, 13)\n",
      "[15.2 42.3 50.  21.1 17.7 18.5 11.3 15.6 15.6 14.4 12.1 17.9 23.1 19.9\n",
      " 15.7  8.8 50.  22.5 24.1 27.5 10.9 30.8 32.9 24.  18.5 13.3 22.9 34.7\n",
      " 16.6 17.5 22.3 16.1 14.9 23.1 34.9 25.  13.9 13.1 20.4 20.  15.2 24.7\n",
      " 22.2 16.7 12.7 15.6 18.4 21.  30.1 15.1 18.7  9.6 31.5 24.8 19.1 22.\n",
      " 14.5 11.  32.  29.4 20.3 24.4 14.6 19.5 14.1 14.3 15.6 10.5  6.3 19.3\n",
      " 19.3 13.4 36.4 17.8 13.5 16.5  8.3 14.3 16.  13.4 28.6 43.5 20.2 22.\n",
      " 23.  20.7 12.5 48.5 14.6 13.4 23.7 50.  21.7 39.8 38.7 22.2 34.9 22.5\n",
      " 31.1 28.7 46.  41.7 21.  26.6 15.  24.4 13.3 21.2 11.7 21.7 19.4 50.\n",
      " 22.8 19.7 24.7 36.2 14.2 18.9 18.3 20.6 24.6 18.2  8.7 44.  10.4 13.2\n",
      " 21.2 37.  30.7 22.9 20.  19.3 31.7 32.  23.1 18.8 10.9 50.  19.6  5.\n",
      " 14.4 19.8 13.8 19.6 23.9 24.5 25.  19.9 17.2 24.6 13.5 26.6 21.4 11.9\n",
      " 22.6 19.6  8.5 23.7 23.1 22.4 20.5 23.6 18.4 35.2 23.1 27.9 20.6 23.7\n",
      " 28.  13.6 27.1 23.6 20.6 18.2 21.7 17.1  8.4 25.3 13.8 22.2 18.4 20.7\n",
      " 31.6 30.5 20.3  8.8 19.2 19.4 23.1 23.  14.8 48.8 22.6 33.4 21.1 13.6\n",
      " 32.2 13.1 23.4 18.9 23.9 11.8 23.3 22.8 19.6 16.7 13.4 22.2 20.4 21.8\n",
      " 26.4 14.9 24.1 23.8 12.3 29.1 21.  19.5 23.3 23.8 17.8 11.5 21.7 19.9\n",
      " 25.  33.4 28.5 21.4 24.3 27.5 33.1 16.2 23.3 48.3 22.9 22.8 13.1 12.7\n",
      " 22.6 15.  15.3 10.5 24.  18.5 21.7 19.5 33.2 23.2  5.  19.1 12.7 22.3\n",
      " 10.2 13.9 16.3 17.  20.1 29.9 17.2 37.3 45.4 17.8 23.2 29.  22.  18.\n",
      " 17.4 34.6 20.1 25.  15.6 24.8 28.2 21.2 21.4 23.8 31.  26.2 17.4 37.9\n",
      " 17.5 20.   8.3 23.9  8.4 13.8  7.2 11.7 17.1 21.6 50.  16.1 20.4 20.6\n",
      " 21.4 20.6 36.5  8.5 24.8 10.8 21.9 17.3 18.9 36.2 14.9 18.2 33.3 21.8\n",
      " 19.7 31.6 24.8 19.4 22.8  7.5 44.8 16.8 18.7 50.  50.  19.5 20.1 50.\n",
      " 17.2 20.8 19.3 41.3 20.4 20.5 13.8 16.5 23.9 20.6 31.5 23.3 16.8 14.\n",
      " 33.8 36.1 12.8 18.3 18.7 19.1 29.  30.1 50.  50.  22.  11.9 37.6 50.\n",
      " 22.7 20.8 23.5 27.9 50.  19.3 23.9 22.6 15.2 21.7 19.2 43.8 20.3 33.2\n",
      " 19.9 22.5 32.7 22.  17.1 19.  15.  16.1 25.1 23.7 28.7 37.2 22.6 16.4\n",
      " 25.  29.8 22.1 17.4 18.1 30.3 17.5 24.7 12.6 26.5 28.7 13.3 10.4 24.4\n",
      " 23.  20.  17.8  7.  11.8 24.4 13.8 19.4 25.2 19.4 19.4 29.1]\n"
     ]
    }
   ],
   "source": [
    "# 3-24 加载波士顿房价数据\n",
    "from keras.datasets import boston_housing\n",
    "(train_data, train_targets), (test_data, test_targets) = boston_housing.load_data()\n",
    "\n",
    "print(train_data.shape)\n",
    "print(test_data.shape)\n",
    "print(train_targets)"
   ]
  },
  {
   "cell_type": "markdown",
   "metadata": {},
   "source": [
    "### 3.6.2 准备数据\n",
    "对数据特征标准化（normalize），对输入数据减去平均值，再除以标准差。"
   ]
  },
  {
   "cell_type": "code",
   "execution_count": 114,
   "metadata": {
    "collapsed": true
   },
   "outputs": [],
   "source": [
    "# 3-25 准备数据\n",
    "mean = train_data.mean(axis=0)\n",
    "train_data -= mean\n",
    "std = train_data.std(axis=0)\n",
    "train_data /=std\n",
    "\n",
    "test_data -= mean\n",
    "test_data /= std"
   ]
  },
  {
   "cell_type": "markdown",
   "metadata": {},
   "source": [
    "### 3.6.3 构建网络\n",
    "由于数据样本很小，使用一个小网络，减少过拟合程度。"
   ]
  },
  {
   "cell_type": "code",
   "execution_count": 101,
   "metadata": {
    "collapsed": false
   },
   "outputs": [],
   "source": [
    "from keras import models\n",
    "from keras import layers\n",
    "\n",
    "def build_model():\n",
    "    model = models.Sequential()\n",
    "    model.add(layers.Dense(64, activation='relu',input_shape=(train_data.shape[1],)))\n",
    "    model.add(layers.Dense(64, activation='relu'))\n",
    "    model.add(layers.Dense(1))\n",
    "    model.compile(optimizer='rmsprop', loss='mse', metrics=['mse'])\n",
    "    return model"
   ]
  },
  {
   "cell_type": "markdown",
   "metadata": {},
   "source": [
    "### 3.6.4 利用K折验证来验证你的方法\n",
    "K折交叉验证：份数据集分成K份，每次在K-1个模型上训练"
   ]
  },
  {
   "cell_type": "code",
   "execution_count": 103,
   "metadata": {
    "collapsed": false
   },
   "outputs": [
    {
     "name": "stdout",
     "output_type": "stream",
     "text": [
      "processing fold # 0\n",
      "processing fold # 1\n",
      "processing fold # 2\n",
      "processing fold # 3\n"
     ]
    }
   ],
   "source": [
    "# 3-27 K折验证\n",
    "import numpy as np\n",
    "\n",
    "k = 4\n",
    "num_val_samples = len(train_data) // k\n",
    "num_epochs = 100\n",
    "all_scores = []\n",
    "\n",
    "for i in range(k):\n",
    "    print('processing fold #', i)\n",
    "    val_data = train_data[i * num_val_samples: (i + 1) * num_val_samples]\n",
    "    val_targets = train_targets[i * num_val_samples: (i + 1) * num_val_samples]\n",
    "    \n",
    "    # concatenate()拼接数组\n",
    "    partial_train_data = np.concatenate(\n",
    "        [train_data[:i * num_val_samples],\n",
    "         train_data[(i + 1) * num_val_samples:]],\n",
    "        axis = 0)\n",
    "    partial_train_targets = np.concatenate(\n",
    "        [train_targets[:i * num_val_samples],\n",
    "         train_targets[(i + 1) * num_val_samples:]],\n",
    "        axis = 0)\n",
    "    \n",
    "    model = build_model()\n",
    "    model.fit(partial_train_data, partial_train_targets, \n",
    "              epochs=num_epochs, batch_size=1, verbose=0)\n",
    "    val_mse, val_mae = model.evaluate(val_data, val_targets, verbose=0)\n",
    "    all_scores.append(val_mae)"
   ]
  },
  {
   "cell_type": "code",
   "execution_count": 105,
   "metadata": {
    "collapsed": false
   },
   "outputs": [
    {
     "name": "stdout",
     "output_type": "stream",
     "text": [
      "[7.662239915073508, 20.2562838072824, 13.579548505273197, 11.053767351230773]\n"
     ]
    },
    {
     "data": {
      "text/plain": [
       "13.13795989471497"
      ]
     },
     "execution_count": 105,
     "metadata": {},
     "output_type": "execute_result"
    }
   ],
   "source": [
    "print(all_scores)\n",
    "np.mean(all_scores)"
   ]
  },
  {
   "cell_type": "code",
   "execution_count": 120,
   "metadata": {
    "collapsed": false
   },
   "outputs": [
    {
     "name": "stdout",
     "output_type": "stream",
     "text": [
      "processing fold # 0\n",
      "processing fold # 1\n",
      "processing fold # 2\n",
      "processing fold # 3\n"
     ]
    }
   ],
   "source": [
    "# 3-28 保存每折的验证结果\n",
    "import numpy as np\n",
    "\n",
    "k = 4\n",
    "num_val_samples = len(train_data) // k\n",
    "num_epochs = 500\n",
    "all_mae_histories = []\n",
    "\n",
    "for i in range(k):\n",
    "    print('processing fold #', i)\n",
    "    val_data = train_data[i * num_val_samples: (i + 1) * num_val_samples]\n",
    "    val_targets = train_targets[i * num_val_samples: (i + 1) * num_val_samples]\n",
    "    \n",
    "    # concatenate()拼接数组\n",
    "    partial_train_data = np.concatenate(\n",
    "        [train_data[:i * num_val_samples],\n",
    "         train_data[(i + 1) * num_val_samples:]],\n",
    "        axis = 0)\n",
    "    partial_train_targets = np.concatenate(\n",
    "        [train_targets[:i * num_val_samples],\n",
    "         train_targets[(i + 1) * num_val_samples:]],\n",
    "        axis = 0)\n",
    "    \n",
    "    model = build_model()\n",
    "    history = model.fit(partial_train_data, partial_train_targets,\n",
    "                        validation_data = (val_data, val_targets),\n",
    "                        epochs=num_epochs, batch_size=1, verbose=0)\n",
    "    mae_history = history.history['val_loss']\n",
    "    all_mae_histories.append(mae_history)"
   ]
  },
  {
   "cell_type": "code",
   "execution_count": 123,
   "metadata": {
    "collapsed": false
   },
   "outputs": [],
   "source": [
    "# 3-29 计算所有轮次中的K折验证分数平均值\n",
    "average_mae_history = [np.mean([x[i] for x in all_mae_histories]) for i in range(num_epochs)]"
   ]
  },
  {
   "cell_type": "code",
   "execution_count": 124,
   "metadata": {
    "collapsed": false
   },
   "outputs": [
    {
     "data": {
      "image/png": "[encoded data removed]",
      "text/plain": [
       "<matplotlib.figure.Figure at 0x2309f82f400>"
      ]
     },
     "metadata": {},
     "output_type": "display_data"
    }
   ],
   "source": [
    "# 3-30 绘制验证分数\n",
    "import matplotlib.pyplot as plt\n",
    "plt.plot(range(1, len(average_mae_history) + 1), average_mae_history)\n",
    "plt.xlabel('Epochs')\n",
    "plt.ylabel('Validation MAE')\n",
    "plt.show()"
   ]
  },
  {
   "cell_type": "markdown",
   "metadata": {},
   "source": [
    "因为纵轴范围太大，删除前10个数据点，重新绘制"
   ]
  },
  {
   "cell_type": "code",
   "execution_count": 125,
   "metadata": {
    "collapsed": false
   },
   "outputs": [
    {
     "data": {
      "image/png": "[encoded data removed]",
      "text/plain": [
       "<matplotlib.figure.Figure at 0x2309f623a58>"
      ]
     },
     "metadata": {},
     "output_type": "display_data"
    }
   ],
   "source": [
    "def smooth_curve(points, factor = 0.9):\n",
    "    smoothed_points = []\n",
    "    for point in points:\n",
    "        if smoothed_points:\n",
    "            previous = smoothed_points[-1]\n",
    "            smoothed_points.append(previous * factor + point * (1 - factor))\n",
    "        else:\n",
    "            smoothed_points.append(point)\n",
    "    return smoothed_points\n",
    "\n",
    "smooth_mae_history = smooth_curve(average_mae_history[10:])\n",
    "\n",
    "plt.plot(range(1, len(smooth_mae_history) + 1), smooth_mae_history)\n",
    "plt.xlabel('Epochs')\n",
    "plt.ylabel('Validation MAE')\n",
    "plt.show()"
   ]
  },
  {
   "cell_type": "markdown",
   "metadata": {},
   "source": [
    "使用最后训练的模型参数，再在所有数据上训练处最终的生产模型，观察在测试集上的性能。"
   ]
  },
  {
   "cell_type": "code",
   "execution_count": 127,
   "metadata": {
    "collapsed": false
   },
   "outputs": [
    {
     "name": "stdout",
     "output_type": "stream",
     "text": [
      "102/102 [==============================] - 1s 5ms/step\n",
      "19.081563463398055\n"
     ]
    }
   ],
   "source": [
    "# 3-32 训练最终模型\n",
    "model = build_model()\n",
    "model.fit(train_data, train_targets, epochs = 80, batch_size = 16, verbose=0)\n",
    "test_mse_score, test_mae_score = model.evaluate(test_data, test_targets)\n",
    "print(test_mae_score)"
   ]
  },
  {
   "cell_type": "code",
   "execution_count": null,
   "metadata": {
    "collapsed": true
   },
   "outputs": [],
   "source": []
  }
 ],
 "metadata": {
  "anaconda-cloud": {},
  "kernelspec": {
   "display_name": "Python [conda root]",
   "language": "python",
   "name": "conda-root-py"
  },
  "language_info": {
   "codemirror_mode": {
    "name": "ipython",
    "version": 3
   },
   "file_extension": ".py",
   "mimetype": "text/x-python",
   "name": "python",
   "nbconvert_exporter": "python",
   "pygments_lexer": "ipython3",
   "version": "3.5.2"
  }
 },
 "nbformat": 4,
 "nbformat_minor": 1
}
