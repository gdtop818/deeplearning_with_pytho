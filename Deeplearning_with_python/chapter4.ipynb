{
 "cells": [
  {
   "cell_type": "markdown",
   "metadata": {},
   "source": [
    "# 第4章 机器学习基础\n",
    "本章着重于解决机器学习任务：模型评估、数据预处理、特征工程、解决过拟合。\n",
    "## 4.1 机器学习的四个分支\n",
    "### 4.1.1 监督学习\n",
    "监督学习（supervised learning）：多分类、二分类和标量回归问题  \n",
    "序列生成（sequence generation）：给一张图片，预测描述图像的文字。  \n",
    "语法树预测（syntax tree prediction）：给定一个句子，预测其分解成语法树。  \n",
    "目标检测（object detection）:给定一个图像，画一个边界框，对每个框进行分类或分类与回归联合问题。  \n",
    "图像分割（image segmentation）:给定一张图像，在特定物体上画一个像素级的掩模（mask）。"
   ]
  },
  {
   "cell_type": "markdown",
   "metadata": {},
   "source": [
    "### 4.1.2 无监督学习\n",
    "降维（dimensionality reduction）  \n",
    "聚类(cluster)  "
   ]
  },
  {
   "cell_type": "markdown",
   "metadata": {},
   "source": [
    "### 4.1.3 自监督学习\n",
    "自编码器（autoencoder），给定目标是未经修改的输入。给定视频过去的帧，然后预测下一帧，或者给定文本前面的词预测下一个词，也属于时序监督学习（temporarilly sypervised learning)。  \n",
    "同时自监督学习可以被理解为无监督或者监督学习。"
   ]
  },
  {
   "cell_type": "markdown",
   "metadata": {},
   "source": [
    "### 4.1.4 强化学习\n",
    "可以适用于自动驾驶汽车、机器人、资源管理、教育等。"
   ]
  },
  {
   "cell_type": "markdown",
   "metadata": {},
   "source": [
    "## 4.2 评估机器学习模型\n",
    "由钱一章可以看到在几个训练集上模型评估：仅仅几轮过后，三个模型都开始过拟合。机器去学习的目的是得到可以泛化（generalize）的模型"
   ]
  },
  {
   "cell_type": "markdown",
   "metadata": {},
   "source": [
    "### 4.2.1 训练集、验证集和测试机\n",
    "信息泄露（information leak）：每次基于模型在验证集上的醒来来调节模型超参数，都会有一些关于验证数据的信息泄露到模型，很快会导致模型过拟合。  \n",
    "三种经典的评估方法：简单的留出验证、K折验证，以及有打乱数据的重复K折验证。"
   ]
  },
  {
   "cell_type": "markdown",
   "metadata": {},
   "source": [
    "1.简单的留出验证（hold-out validation）  \n",
    "留出一定比例的数据集作为测试集。在剩余数据上训练模型。"
   ]
  },
  {
   "cell_type": "code",
   "execution_count": null,
   "metadata": {
    "collapsed": true
   },
   "outputs": [],
   "source": [
    "# 4-1 留出验证\n",
    "import numpy as np\n",
    "num_validation_samples = 10000\n",
    "\n",
    "# 打乱数据\n",
    "np.random.shuffle(data)\n",
    "\n",
    "# 定义验证集\n",
    "validation_data = data[:num_validation_samples]\n",
    "data = data[num_validation_samples:]\n",
    "\n",
    "training_data = data[:]\n",
    "\n",
    "model = get_model()\n",
    "model.train(training_data)\n",
    "validation_score = model.evaluate(validation_data)\n",
    "\n",
    "# 重新调节模型、评估、然后再次调节\n",
    "model = get_model()\n",
    "model.train(np.concatenate([training_data, validation_data]))\n",
    "test.score = model.evaluate(test_data)"
   ]
  },
  {
   "cell_type": "markdown",
   "metadata": {},
   "source": [
    "缺点：如果可用的数据很少，那么可能验证集和测试集包含的样本就太少。"
   ]
  },
  {
   "cell_type": "markdown",
   "metadata": {},
   "source": [
    "2.K折验证\n",
    "K-fold validation将数据划分为大小相同的K个分区。  \n",
    "对于每个分区K进行测试，在剩余的分区上训练模型。"
   ]
  },
  {
   "cell_type": "code",
   "execution_count": null,
   "metadata": {},
   "outputs": [],
   "source": []
  },
  {
   "cell_type": "code",
   "execution_count": null,
   "metadata": {
    "collapsed": true
   },
   "outputs": [],
   "source": [
    "# 4-2 K折交叉验证\n",
    "k = 4\n",
    "num_validation_samples= len(data) // k\n",
    "np.random.shuffle(data)\n",
    "\n",
    "validation_scores = []\n",
    "for fold in range(k):\n",
    "    validation data = data[num_validation_samples * fold: \n",
    "                           num_validation_samples * (flod + 1):]\n",
    "    training_data = data[:num_validation_samples * fold] + \n",
    "                    data[num_validation_samples * (fold + 1):]\n",
    "    model = get_model()\n",
    "    model.train(training_data)\n",
    "    validation_score = model.evaluate(validation_data)\n",
    "    validation_scores.append(validation_score)\n",
    "\n",
    "validation_score = np.average(validation_scores)\n",
    "\n",
    "model = get_model()\n",
    "model.train(data)\n",
    "test_score = mdoel.evaluate(test_data)"
   ]
  },
  {
   "cell_type": "markdown",
   "metadata": {},
   "source": [
    "3.带有打乱数据的重复K折验证iterated K-fold validation with shuffling  \n",
    "一共需要训练和评估PxK个模型。"
   ]
  },
  {
   "cell_type": "markdown",
   "metadata": {},
   "source": [
    "### 4.2.2 评估模型的注意事项\n",
    "数据代表性(data representativeness):希望训练集和测试集都能代表当前数据(通常需要随机打乱数据)  \n",
    "时间箭头(the arrow of time):根据过去预测未来数据，不应该随机打乱数据，不然会发生时间泄露。应保证测试集所有数据都晚于训练集。  \n",
    "数据冗余(redundancy in your data):某些数据点出现了两次，必须保证训练集和验证集之间没有交集。"
   ]
  },
  {
   "cell_type": "markdown",
   "metadata": {},
   "source": [
    "## 4.3 数据预处理、特征过程和特征学习\n",
    "### 4.3.1 神经网络的数据预处理\n",
    "数据预处理的目的是使原始数据更适合用于神经网络处理，包括向量化、标准化、处理缺失值和特征提取。  \n",
    "1.向量化  \n",
    "神经网络的所有输入和目标都必须是浮点数张量。（data vectorization）\n",
    "2.值标准化  \n",
    "取值小、同质性（homogenous）  \n",
    "3.处理缺失值  \n",
    "### 4.3.2 特征过程\n",
    "从更高层次理解问题  \n"
   ]
  },
  {
   "cell_type": "markdown",
   "metadata": {},
   "source": [
    "## 4.4 过拟合和欠拟合\n",
    "降低过拟合的方法-正则化（regularization）\n",
    "### 4.4.1 减小网络大小"
   ]
  },
  {
   "cell_type": "code",
   "execution_count": 1,
   "metadata": {
    "collapsed": false
   },
   "outputs": [
    {
     "name": "stderr",
     "output_type": "stream",
     "text": [
      "Using TensorFlow backend.\n"
     ]
    },
    {
     "name": "stdout",
     "output_type": "stream",
     "text": [
      "[1, 14, 22, 16, 43, 530, 973, 1622, 1385, 65, 458, 4468, 66, 3941, 4, 173, 36, 256, 5, 25, 100, 43, 838, 112, 50, 670, 2, 9, 35, 480, 284, 5, 150, 4, 172, 112, 167, 2, 336, 385, 39, 4, 172, 4536, 1111, 17, 546, 38, 13, 447, 4, 192, 50, 16, 6, 147, 2025, 19, 14, 22, 4, 1920, 4613, 469, 4, 22, 71, 87, 12, 16, 43, 530, 38, 76, 15, 13, 1247, 4, 22, 17, 515, 17, 12, 16, 626, 18, 2, 5, 62, 386, 12, 8, 316, 8, 106, 5, 4, 2223, 5244, 16, 480, 66, 3785, 33, 4, 130, 12, 16, 38, 619, 5, 25, 124, 51, 36, 135, 48, 25, 1415, 33, 6, 22, 12, 215, 28, 77, 52, 5, 14, 407, 16, 82, 2, 8, 4, 107, 117, 5952, 15, 256, 4, 2, 7, 3766, 5, 723, 36, 71, 43, 530, 476, 26, 400, 317, 46, 7, 4, 2, 1029, 13, 104, 88, 4, 381, 15, 297, 98, 32, 2071, 56, 26, 141, 6, 194, 7486, 18, 4, 226, 22, 21, 134, 476, 26, 480, 5, 144, 30, 5535, 18, 51, 36, 28, 224, 92, 25, 104, 4, 226, 65, 16, 38, 1334, 88, 12, 16, 283, 5, 16, 4472, 113, 103, 32, 15, 16, 5345, 19, 178, 32]\n",
      "1\n",
      "[0. 1. 1. ... 0. 0. 0.]\n"
     ]
    }
   ],
   "source": [
    "# 用imdb数据测试\n",
    "# 3-1 加载IMDB数据库\n",
    "from keras.datasets import imdb\n",
    "(train_data, train_labels), (test_data, test_labels) = imdb.load_data(num_words=10000)\n",
    "print(train_data[0])\n",
    "print(train_labels[0])\n",
    "\n",
    "# 可以迅速把某条评论解码为英文单词\n",
    "word_index = imdb.get_word_index()\n",
    "reverse_word_index = dict(\n",
    "    [(value, key) for (key, value) in word_index.items()])\n",
    "decoded_review = ' '.join(\n",
    "    [reverse_word_index.get(i - 3, '?') for i in train_data[0]])\n",
    "\n",
    "# 3-2 将整数序列编码为二进制矩阵\n",
    "import numpy as np\n",
    "\n",
    "def vectorize_sequences(sequences, dimension = 10000):\n",
    "    results = np.zeros((len(sequences), dimension))\n",
    "    for i, sequence in enumerate(sequences):\n",
    "        results[i, sequence] = 1.\n",
    "    return results\n",
    "\n",
    "x_train = vectorize_sequences(train_data)\n",
    "x_test = vectorize_sequences(test_data)\n",
    "\n",
    "print(x_train[0])\n",
    "y_train = np.asarray(train_labels).astype('float32')\n",
    "y_test = np.asarray(test_labels).astype('float32')\n",
    "\n",
    "# 3-7 留出验证集\n",
    "x_val = x_train[:10000]\n",
    "partial_x_train = x_train[10000:]\n",
    "\n",
    "y_val = y_train[:10000]\n",
    "partial_y_train = y_train[10000:]"
   ]
  },
  {
   "cell_type": "code",
   "execution_count": 2,
   "metadata": {
    "collapsed": true
   },
   "outputs": [],
   "source": [
    "# 4-3 原始模型\n",
    "from keras import models\n",
    "from keras import layers\n",
    "\n",
    "model1 = models.Sequential()\n",
    "model1.add(layers.Dense(16, activation = 'relu', input_shape=(10000,)))\n",
    "model1.add(layers.Dense(16, activation = 'relu'))\n",
    "model1.add(layers.Dense(1, activation = 'sigmoid'))\n",
    "\n",
    "# 4-4 容量更小的模型\n",
    "model2 = models.Sequential()\n",
    "model2.add(layers.Dense(4, activation = 'relu', input_shape=(10000,)))\n",
    "model2.add(layers.Dense(4, activation = 'relu'))\n",
    "model2.add(layers.Dense(1, activation = 'sigmoid'))"
   ]
  },
  {
   "cell_type": "code",
   "execution_count": 3,
   "metadata": {
    "collapsed": true
   },
   "outputs": [],
   "source": [
    "# 3-4 编译模型\n",
    "model1.compile(optimizer = 'rmsprop',\n",
    "             loss = 'binary_crossentropy',\n",
    "             metrics = ['accuracy'])\n",
    "model2.compile(optimizer = 'rmsprop',\n",
    "             loss = 'binary_crossentropy',\n",
    "             metrics = ['accuracy'])"
   ]
  },
  {
   "cell_type": "code",
   "execution_count": 4,
   "metadata": {
    "collapsed": false
   },
   "outputs": [
    {
     "name": "stdout",
     "output_type": "stream",
     "text": [
      "Train on 15000 samples, validate on 10000 samples\n",
      "Epoch 1/20\n",
      "15000/15000 [==============================] - 4s 282us/step - loss: 0.5080 - acc: 0.7849 - val_loss: 0.3746 - val_acc: 0.8729\n",
      "Epoch 2/20\n",
      "15000/15000 [==============================] - 4s 245us/step - loss: 0.3007 - acc: 0.9020 - val_loss: 0.3248 - val_acc: 0.8679\n",
      "Epoch 3/20\n",
      "15000/15000 [==============================] - 4s 236us/step - loss: 0.2195 - acc: 0.9274 - val_loss: 0.2823 - val_acc: 0.8895\n",
      "Epoch 4/20\n",
      "15000/15000 [==============================] - 3s 215us/step - loss: 0.1719 - acc: 0.9441 - val_loss: 0.2749 - val_acc: 0.8882\n",
      "Epoch 5/20\n",
      "15000/15000 [==============================] - 3s 219us/step - loss: 0.1406 - acc: 0.9551 - val_loss: 0.3117 - val_acc: 0.8787\n",
      "Epoch 6/20\n",
      "15000/15000 [==============================] - 3s 220us/step - loss: 0.1128 - acc: 0.9654 - val_loss: 0.2999 - val_acc: 0.8848\n",
      "Epoch 7/20\n",
      "15000/15000 [==============================] - 3s 220us/step - loss: 0.0966 - acc: 0.9696 - val_loss: 0.3169 - val_acc: 0.8831\n",
      "Epoch 8/20\n",
      "15000/15000 [==============================] - 3s 213us/step - loss: 0.0768 - acc: 0.9781 - val_loss: 0.3391 - val_acc: 0.8796\n",
      "Epoch 9/20\n",
      "15000/15000 [==============================] - 3s 212us/step - loss: 0.0604 - acc: 0.9844 - val_loss: 0.3603 - val_acc: 0.8801\n",
      "Epoch 10/20\n",
      "15000/15000 [==============================] - 3s 212us/step - loss: 0.0513 - acc: 0.9867 - val_loss: 0.4140 - val_acc: 0.8723\n",
      "Epoch 11/20\n",
      "15000/15000 [==============================] - 3s 211us/step - loss: 0.0383 - acc: 0.9922 - val_loss: 0.4348 - val_acc: 0.8710\n",
      "Epoch 12/20\n",
      "15000/15000 [==============================] - 3s 219us/step - loss: 0.0311 - acc: 0.9937 - val_loss: 0.4487 - val_acc: 0.8750\n",
      "Epoch 13/20\n",
      "15000/15000 [==============================] - 3s 221us/step - loss: 0.0263 - acc: 0.9952 - val_loss: 0.5453 - val_acc: 0.8637\n",
      "Epoch 14/20\n",
      "15000/15000 [==============================] - 3s 223us/step - loss: 0.0210 - acc: 0.9960 - val_loss: 0.5136 - val_acc: 0.8709\n",
      "Epoch 15/20\n",
      "15000/15000 [==============================] - 3s 217us/step - loss: 0.0123 - acc: 0.9988 - val_loss: 0.7138 - val_acc: 0.8410\n",
      "Epoch 16/20\n",
      "15000/15000 [==============================] - 3s 223us/step - loss: 0.0133 - acc: 0.9985 - val_loss: 0.5751 - val_acc: 0.8683\n",
      "Epoch 17/20\n",
      "15000/15000 [==============================] - 3s 220us/step - loss: 0.0090 - acc: 0.9989 - val_loss: 0.6073 - val_acc: 0.8689\n",
      "Epoch 18/20\n",
      "15000/15000 [==============================] - 3s 225us/step - loss: 0.0052 - acc: 0.9998 - val_loss: 0.7883 - val_acc: 0.8458\n",
      "Epoch 19/20\n",
      "15000/15000 [==============================] - 3s 223us/step - loss: 0.0053 - acc: 0.9997 - val_loss: 0.6974 - val_acc: 0.8626\n",
      "Epoch 20/20\n",
      "15000/15000 [==============================] - 3s 223us/step - loss: 0.0080 - acc: 0.9982 - val_loss: 0.7118 - val_acc: 0.8661\n",
      "Train on 15000 samples, validate on 10000 samples\n",
      "Epoch 1/20\n",
      "15000/15000 [==============================] - 3s 230us/step - loss: 0.6160 - acc: 0.6395 - val_loss: 0.5697 - val_acc: 0.6627\n",
      "Epoch 2/20\n",
      "15000/15000 [==============================] - 3s 206us/step - loss: 0.5182 - acc: 0.7936 - val_loss: 0.5171 - val_acc: 0.8306\n",
      "Epoch 3/20\n",
      "15000/15000 [==============================] - 3s 204us/step - loss: 0.4713 - acc: 0.8569 - val_loss: 0.4911 - val_acc: 0.8318\n",
      "Epoch 4/20\n",
      "15000/15000 [==============================] - 3s 202us/step - loss: 0.4381 - acc: 0.8897 - val_loss: 0.4736 - val_acc: 0.8726\n",
      "Epoch 5/20\n",
      "15000/15000 [==============================] - 3s 207us/step - loss: 0.4122 - acc: 0.9159 - val_loss: 0.4741 - val_acc: 0.8333\n",
      "Epoch 6/20\n",
      "15000/15000 [==============================] - 3s 212us/step - loss: 0.3910 - acc: 0.9297 - val_loss: 0.4777 - val_acc: 0.8302\n",
      "Epoch 7/20\n",
      "15000/15000 [==============================] - 3s 214us/step - loss: 0.3725 - acc: 0.9417 - val_loss: 0.4660 - val_acc: 0.8505\n",
      "Epoch 8/20\n",
      "15000/15000 [==============================] - 3s 213us/step - loss: 0.3563 - acc: 0.9513 - val_loss: 0.4471 - val_acc: 0.8767\n",
      "Epoch 9/20\n",
      "15000/15000 [==============================] - 3s 215us/step - loss: 0.3417 - acc: 0.9584 - val_loss: 0.4480 - val_acc: 0.8726\n",
      "Epoch 10/20\n",
      "15000/15000 [==============================] - 3s 210us/step - loss: 0.3276 - acc: 0.9661 - val_loss: 0.4625 - val_acc: 0.8610\n",
      "Epoch 11/20\n",
      "15000/15000 [==============================] - 3s 211us/step - loss: 0.3157 - acc: 0.9698 - val_loss: 0.4677 - val_acc: 0.8612\n",
      "Epoch 12/20\n",
      "15000/15000 [==============================] - 3s 210us/step - loss: 0.3036 - acc: 0.9749 - val_loss: 0.4693 - val_acc: 0.8636\n",
      "Epoch 13/20\n",
      "15000/15000 [==============================] - 3s 206us/step - loss: 0.2932 - acc: 0.9787 - val_loss: 0.4997 - val_acc: 0.8514\n",
      "Epoch 14/20\n",
      "15000/15000 [==============================] - 3s 205us/step - loss: 0.2829 - acc: 0.9814 - val_loss: 0.4999 - val_acc: 0.8564\n",
      "Epoch 15/20\n",
      "15000/15000 [==============================] - 3s 203us/step - loss: 0.2738 - acc: 0.9847 - val_loss: 0.4769 - val_acc: 0.8658\n",
      "Epoch 16/20\n",
      "15000/15000 [==============================] - 3s 204us/step - loss: 0.2655 - acc: 0.9863 - val_loss: 0.4922 - val_acc: 0.8638\n",
      "Epoch 17/20\n",
      "15000/15000 [==============================] - 3s 203us/step - loss: 0.2566 - acc: 0.9880 - val_loss: 0.5727 - val_acc: 0.8446\n",
      "Epoch 18/20\n",
      "15000/15000 [==============================] - 3s 213us/step - loss: 0.2498 - acc: 0.9883 - val_loss: 0.5732 - val_acc: 0.8472\n",
      "Epoch 19/20\n",
      "15000/15000 [==============================] - 3s 220us/step - loss: 0.2422 - acc: 0.9896 - val_loss: 0.5590 - val_acc: 0.8552\n",
      "Epoch 20/20\n",
      "15000/15000 [==============================] - 3s 213us/step - loss: 0.2355 - acc: 0.9896 - val_loss: 0.6498 - val_acc: 0.8403\n"
     ]
    }
   ],
   "source": [
    "history1 = model1.fit(partial_x_train,\n",
    "                   partial_y_train,\n",
    "                   epochs = 20,\n",
    "                   batch_size = 512,\n",
    "                   validation_data = (x_val, y_val))\n",
    "history2 = model2.fit(partial_x_train,\n",
    "                   partial_y_train,\n",
    "                   epochs = 20,\n",
    "                   batch_size = 512,\n",
    "                   validation_data = (x_val, y_val))"
   ]
  },
  {
   "cell_type": "code",
   "execution_count": 6,
   "metadata": {
    "collapsed": false
   },
   "outputs": [
    {
     "data": {
      "image/png": "[encoded data removed]",
      "text/plain": [
       "<matplotlib.figure.Figure at 0x172e57a2a20>"
      ]
     },
     "metadata": {},
     "output_type": "display_data"
    }
   ],
   "source": [
    "# 3-9 绘制训练损失和验证损失\n",
    "import matplotlib.pyplot as plt\n",
    "\n",
    "history1_dict = history1.history\n",
    "history2_dict = history2.history\n",
    "loss_values = history1_dict['loss']\n",
    "\n",
    "val_loss_values1 = history1_dict['val_loss']\n",
    "val_loss_values2 = history2_dict['val_loss']\n",
    "\n",
    "epochs = range(1, len(loss_values) + 1)\n",
    "\n",
    "plt.plot(epochs, val_loss_values1, '+', label = 'Original model')\n",
    "plt.plot(epochs, val_loss_values2, 'bo', label = 'Smaller model')\n",
    "plt.title('Smaller model')\n",
    "plt.xlabel('Epochs')\n",
    "plt.ylabel('Validation Loss')\n",
    "plt.legend()\n",
    "plt.show()"
   ]
  },
  {
   "cell_type": "code",
   "execution_count": 7,
   "metadata": {
    "collapsed": false
   },
   "outputs": [
    {
     "name": "stdout",
     "output_type": "stream",
     "text": [
      "Train on 15000 samples, validate on 10000 samples\n",
      "Epoch 1/20\n",
      "15000/15000 [==============================] - 15s 991us/step - loss: 0.5423 - acc: 0.7408 - val_loss: 0.3727 - val_acc: 0.8378\n",
      "Epoch 2/20\n",
      "15000/15000 [==============================] - 13s 857us/step - loss: 0.2619 - acc: 0.8981 - val_loss: 0.2710 - val_acc: 0.8892\n",
      "Epoch 3/20\n",
      "15000/15000 [==============================] - 13s 882us/step - loss: 0.1576 - acc: 0.9413 - val_loss: 0.2940 - val_acc: 0.8900\n",
      "Epoch 4/20\n",
      "15000/15000 [==============================] - 14s 912us/step - loss: 0.0930 - acc: 0.9691 - val_loss: 0.3535 - val_acc: 0.8865\n",
      "Epoch 5/20\n",
      "15000/15000 [==============================] - 13s 882us/step - loss: 0.1020 - acc: 0.9767 - val_loss: 0.3209 - val_acc: 0.8821\n",
      "Epoch 6/20\n",
      "15000/15000 [==============================] - 13s 891us/step - loss: 0.0070 - acc: 0.9999 - val_loss: 0.4624 - val_acc: 0.8892\n",
      "Epoch 7/20\n",
      "15000/15000 [==============================] - 13s 861us/step - loss: 8.8153e-04 - acc: 0.9999 - val_loss: 0.5670 - val_acc: 0.8875\n",
      "Epoch 8/20\n",
      "15000/15000 [==============================] - 14s 957us/step - loss: 1.1268e-04 - acc: 1.0000 - val_loss: 0.6812 - val_acc: 0.8840\n",
      "Epoch 9/20\n",
      "15000/15000 [==============================] - 15s 971us/step - loss: 2.3470e-05 - acc: 1.0000 - val_loss: 0.7235 - val_acc: 0.8871\n",
      "Epoch 10/20\n",
      "15000/15000 [==============================] - 14s 942us/step - loss: 4.8483e-06 - acc: 1.0000 - val_loss: 0.7891 - val_acc: 0.8863\n",
      "Epoch 11/20\n",
      "15000/15000 [==============================] - 14s 919us/step - loss: 1.2031e-06 - acc: 1.0000 - val_loss: 0.8374 - val_acc: 0.8877\n",
      "Epoch 12/20\n",
      "15000/15000 [==============================] - 13s 834us/step - loss: 4.3980e-07 - acc: 1.0000 - val_loss: 0.8791 - val_acc: 0.8880\n",
      "Epoch 13/20\n",
      "15000/15000 [==============================] - 14s 914us/step - loss: 2.1819e-07 - acc: 1.0000 - val_loss: 0.9099 - val_acc: 0.8880\n",
      "Epoch 14/20\n",
      "15000/15000 [==============================] - 13s 898us/step - loss: 1.4921e-07 - acc: 1.0000 - val_loss: 0.9346 - val_acc: 0.8884\n",
      "Epoch 15/20\n",
      "15000/15000 [==============================] - 14s 909us/step - loss: 1.2646e-07 - acc: 1.0000 - val_loss: 0.9489 - val_acc: 0.8885\n",
      "Epoch 16/20\n",
      "15000/15000 [==============================] - 13s 898us/step - loss: 1.1865e-07 - acc: 1.0000 - val_loss: 0.9579 - val_acc: 0.8877\n",
      "Epoch 17/20\n",
      "15000/15000 [==============================] - 14s 926us/step - loss: 1.1525e-07 - acc: 1.0000 - val_loss: 0.9650 - val_acc: 0.8883\n",
      "Epoch 18/20\n",
      "15000/15000 [==============================] - 14s 960us/step - loss: 1.1343e-07 - acc: 1.0000 - val_loss: 0.9702 - val_acc: 0.8883\n",
      "Epoch 19/20\n",
      "15000/15000 [==============================] - 14s 905us/step - loss: 1.1240e-07 - acc: 1.0000 - val_loss: 0.9740 - val_acc: 0.8879\n",
      "Epoch 20/20\n",
      "15000/15000 [==============================] - 13s 885us/step - loss: 1.1180e-07 - acc: 1.0000 - val_loss: 0.9787 - val_acc: 0.8881\n"
     ]
    }
   ],
   "source": [
    "# 4-5 容量更大的模型\n",
    "model3 = models.Sequential()\n",
    "model3.add(layers.Dense(512, activation = 'relu', input_shape=(10000,)))\n",
    "model3.add(layers.Dense(512, activation = 'relu'))\n",
    "model3.add(layers.Dense(1, activation = 'sigmoid'))\n",
    "\n",
    "model3.compile(optimizer = 'rmsprop',\n",
    "              loss = 'binary_crossentropy',\n",
    "              metrics = ['accuracy'])\n",
    "\n",
    "history3 = model3.fit(partial_x_train,\n",
    "                   partial_y_train,\n",
    "                   epochs = 20,\n",
    "                   batch_size = 512,\n",
    "                   validation_data = (x_val, y_val))"
   ]
  },
  {
   "cell_type": "code",
   "execution_count": 8,
   "metadata": {
    "collapsed": false
   },
   "outputs": [
    {
     "data": {
      "image/png": "[encoded data removed]",
      "text/plain": [
       "<matplotlib.figure.Figure at 0x172e70ca320>"
      ]
     },
     "metadata": {},
     "output_type": "display_data"
    }
   ],
   "source": [
    "import matplotlib.pyplot as plt\n",
    "\n",
    "history1_dict = history1.history\n",
    "history3_dict = history3.history\n",
    "loss_values = history1_dict['loss']\n",
    "\n",
    "val_loss_values1 = history1_dict['val_loss']\n",
    "val_loss_values3 = history3_dict['val_loss']\n",
    "\n",
    "epochs = range(1, len(loss_values) + 1)\n",
    "\n",
    "plt.plot(epochs, val_loss_values1, '+', label = 'Original model')\n",
    "plt.plot(epochs, val_loss_values3, 'bo', label = 'Bigger model')\n",
    "plt.title('Bigger model')\n",
    "plt.xlabel('Epochs')\n",
    "plt.ylabel('Validation Loss')\n",
    "plt.legend()\n",
    "plt.show()"
   ]
  },
  {
   "cell_type": "code",
   "execution_count": 9,
   "metadata": {
    "collapsed": false
   },
   "outputs": [
    {
     "data": {
      "image/png": "[encoded data removed]",
      "text/plain": [
       "<matplotlib.figure.Figure at 0x172e70de320>"
      ]
     },
     "metadata": {},
     "output_type": "display_data"
    }
   ],
   "source": [
    "import matplotlib.pyplot as plt\n",
    "\n",
    "history1_dict = history1.history\n",
    "history2_dict = history2.history\n",
    "history3_dict = history3.history\n",
    "loss_values = history1_dict['loss']\n",
    "\n",
    "val_loss_values1 = history1_dict['val_loss']\n",
    "val_loss_values2 = history2_dict['val_loss']\n",
    "val_loss_values3 = history3_dict['val_loss']\n",
    "\n",
    "epochs = range(1, len(loss_values) + 1)\n",
    "\n",
    "plt.plot(epochs, val_loss_values1, '+', label = 'Original model')\n",
    "plt.plot(epochs, val_loss_values2, 'd', label = 'Smaller model')\n",
    "plt.plot(epochs, val_loss_values3, 'bo', label = 'Bigger model')\n",
    "plt.title('Bigger model')\n",
    "plt.xlabel('Epochs')\n",
    "plt.ylabel('Validation Loss')\n",
    "plt.legend()\n",
    "plt.show()"
   ]
  },
  {
   "cell_type": "markdown",
   "metadata": {},
   "source": [
    "### 4.4.2 添加权重正则化\n",
    "L1正则化  \n",
    "L2正则化\n"
   ]
  },
  {
   "cell_type": "code",
   "execution_count": 10,
   "metadata": {
    "collapsed": false
   },
   "outputs": [
    {
     "name": "stdout",
     "output_type": "stream",
     "text": [
      "Train on 15000 samples, validate on 10000 samples\n",
      "Epoch 1/20\n",
      "15000/15000 [==============================] - 4s 267us/step - loss: 0.5697 - acc: 0.7878 - val_loss: 0.4836 - val_acc: 0.8253\n",
      "Epoch 2/20\n",
      "15000/15000 [==============================] - 3s 219us/step - loss: 0.3743 - acc: 0.8947 - val_loss: 0.3674 - val_acc: 0.8752\n",
      "Epoch 3/20\n",
      "15000/15000 [==============================] - 3s 227us/step - loss: 0.2945 - acc: 0.9183 - val_loss: 0.3343 - val_acc: 0.8888\n",
      "Epoch 4/20\n",
      "15000/15000 [==============================] - 3s 231us/step - loss: 0.2553 - acc: 0.9299 - val_loss: 0.3376 - val_acc: 0.8831\n",
      "Epoch 5/20\n",
      "15000/15000 [==============================] - 3s 226us/step - loss: 0.2335 - acc: 0.9395 - val_loss: 0.3426 - val_acc: 0.8820\n",
      "Epoch 6/20\n",
      "15000/15000 [==============================] - 3s 226us/step - loss: 0.2178 - acc: 0.9469 - val_loss: 0.3334 - val_acc: 0.8842\n",
      "Epoch 7/20\n",
      "15000/15000 [==============================] - 3s 207us/step - loss: 0.2032 - acc: 0.9523 - val_loss: 0.3404 - val_acc: 0.8847\n",
      "Epoch 8/20\n",
      "15000/15000 [==============================] - 3s 209us/step - loss: 0.1960 - acc: 0.9543 - val_loss: 0.3478 - val_acc: 0.8835\n",
      "Epoch 9/20\n",
      "15000/15000 [==============================] - 3s 215us/step - loss: 0.1892 - acc: 0.9575 - val_loss: 0.3554 - val_acc: 0.8828\n",
      "Epoch 10/20\n",
      "15000/15000 [==============================] - 3s 228us/step - loss: 0.1803 - acc: 0.9597 - val_loss: 0.3675 - val_acc: 0.8761\n",
      "Epoch 11/20\n",
      "15000/15000 [==============================] - 3s 230us/step - loss: 0.1733 - acc: 0.9655 - val_loss: 0.3817 - val_acc: 0.8807\n",
      "Epoch 12/20\n",
      "15000/15000 [==============================] - 3s 225us/step - loss: 0.1693 - acc: 0.9661 - val_loss: 0.3766 - val_acc: 0.8794\n",
      "Epoch 13/20\n",
      "15000/15000 [==============================] - 3s 231us/step - loss: 0.1660 - acc: 0.9661 - val_loss: 0.3925 - val_acc: 0.8728\n",
      "Epoch 14/20\n",
      "15000/15000 [==============================] - 3s 225us/step - loss: 0.1583 - acc: 0.9705 - val_loss: 0.3915 - val_acc: 0.8760\n",
      "Epoch 15/20\n",
      "15000/15000 [==============================] - 3s 212us/step - loss: 0.1582 - acc: 0.9687 - val_loss: 0.4048 - val_acc: 0.8719\n",
      "Epoch 16/20\n",
      "15000/15000 [==============================] - 3s 212us/step - loss: 0.1547 - acc: 0.9697 - val_loss: 0.4157 - val_acc: 0.8683\n",
      "Epoch 17/20\n",
      "15000/15000 [==============================] - 3s 214us/step - loss: 0.1477 - acc: 0.9734 - val_loss: 0.4623 - val_acc: 0.8643\n",
      "Epoch 18/20\n",
      "15000/15000 [==============================] - 3s 214us/step - loss: 0.1440 - acc: 0.9742 - val_loss: 0.4640 - val_acc: 0.8663\n",
      "Epoch 19/20\n",
      "15000/15000 [==============================] - 3s 224us/step - loss: 0.1439 - acc: 0.9759 - val_loss: 0.4401 - val_acc: 0.8656\n",
      "Epoch 20/20\n",
      "15000/15000 [==============================] - 3s 233us/step - loss: 0.1378 - acc: 0.9786 - val_loss: 0.4308 - val_acc: 0.8729\n"
     ]
    }
   ],
   "source": [
    "# 4-6 向模型添加L2权重正则化\n",
    "from keras import models\n",
    "from keras import layers\n",
    "from keras import regularizers\n",
    "import matplotlib.pyplot as plt\n",
    "\n",
    "model4 = models.Sequential()\n",
    "# 每个系数都会使总网络损失增加0.001 * weight_coefficient_value\n",
    "model4.add(layers.Dense(16, kernel_regularizer = regularizers.l2(0.001), activation = 'relu', input_shape=(10000,)))\n",
    "model4.add(layers.Dense(16, kernel_regularizer = regularizers.l2(0.001), activation = 'relu'))\n",
    "model4.add(layers.Dense(1, activation = 'sigmoid'))\n",
    "\n",
    "model4.compile(optimizer = 'rmsprop',\n",
    "              loss = 'binary_crossentropy',\n",
    "              metrics = ['accuracy'])\n",
    "\n",
    "history4 = model4.fit(partial_x_train,\n",
    "                   partial_y_train,\n",
    "                   epochs = 20,\n",
    "                   batch_size = 512,\n",
    "                   validation_data = (x_val, y_val))"
   ]
  },
  {
   "cell_type": "code",
   "execution_count": 11,
   "metadata": {
    "collapsed": false
   },
   "outputs": [
    {
     "data": {
      "image/png": "[encoded data removed]",
      "text/plain": [
       "<matplotlib.figure.Figure at 0x172e74cf5c0>"
      ]
     },
     "metadata": {},
     "output_type": "display_data"
    }
   ],
   "source": [
    "history1_dict = history1.history\n",
    "history4_dict = history4.history\n",
    "loss_values = history1_dict['loss']\n",
    "\n",
    "val_loss_values1 = history1_dict['val_loss']\n",
    "val_loss_values4 = history4_dict['val_loss']\n",
    "\n",
    "epochs = range(1, len(loss_values) + 1)\n",
    "\n",
    "plt.plot(epochs, val_loss_values1, '+', label = 'Original model')\n",
    "plt.plot(epochs, val_loss_values4, 'bo', label = 'L2 regularization')\n",
    "plt.title('L2 regularization')\n",
    "plt.xlabel('Epochs')\n",
    "plt.ylabel('Validation Loss')\n",
    "plt.legend()\n",
    "plt.show()"
   ]
  },
  {
   "cell_type": "markdown",
   "metadata": {},
   "source": [
    "### 4.4.3 添加dropout正则化\n",
    "Geoffrey Hinton  \n",
    "训练时随机将矩阵一部分值设为0  \n",
    "model.add(layers.Dropout(0.5))"
   ]
  },
  {
   "cell_type": "code",
   "execution_count": 12,
   "metadata": {
    "collapsed": false
   },
   "outputs": [
    {
     "name": "stdout",
     "output_type": "stream",
     "text": [
      "Train on 15000 samples, validate on 10000 samples\n",
      "Epoch 1/20\n",
      "15000/15000 [==============================] - 4s 289us/step - loss: 0.6385 - acc: 0.6223 - val_loss: 0.5542 - val_acc: 0.8390\n",
      "Epoch 2/20\n",
      "15000/15000 [==============================] - 3s 229us/step - loss: 0.5397 - acc: 0.7460 - val_loss: 0.4589 - val_acc: 0.8378\n",
      "Epoch 3/20\n",
      "15000/15000 [==============================] - 3s 221us/step - loss: 0.4616 - acc: 0.8119 - val_loss: 0.4039 - val_acc: 0.8516\n",
      "Epoch 4/20\n",
      "15000/15000 [==============================] - 3s 213us/step - loss: 0.4007 - acc: 0.8476 - val_loss: 0.3367 - val_acc: 0.8835\n",
      "Epoch 5/20\n",
      "15000/15000 [==============================] - 3s 213us/step - loss: 0.3485 - acc: 0.8762 - val_loss: 0.3148 - val_acc: 0.8865\n",
      "Epoch 6/20\n",
      "15000/15000 [==============================] - 3s 211us/step - loss: 0.3083 - acc: 0.9006 - val_loss: 0.3081 - val_acc: 0.8869\n",
      "Epoch 7/20\n",
      "15000/15000 [==============================] - 3s 211us/step - loss: 0.2714 - acc: 0.9154 - val_loss: 0.3058 - val_acc: 0.8871\n",
      "Epoch 8/20\n",
      "15000/15000 [==============================] - 3s 227us/step - loss: 0.2477 - acc: 0.9255 - val_loss: 0.2946 - val_acc: 0.8826\n",
      "Epoch 9/20\n",
      "15000/15000 [==============================] - 3s 218us/step - loss: 0.2246 - acc: 0.9345 - val_loss: 0.3048 - val_acc: 0.8845\n",
      "Epoch 10/20\n",
      "15000/15000 [==============================] - 3s 217us/step - loss: 0.1984 - acc: 0.9430 - val_loss: 0.3389 - val_acc: 0.8865\n",
      "Epoch 11/20\n",
      "15000/15000 [==============================] - 3s 220us/step - loss: 0.1858 - acc: 0.9477 - val_loss: 0.3484 - val_acc: 0.8857\n",
      "Epoch 12/20\n",
      "15000/15000 [==============================] - 3s 215us/step - loss: 0.1757 - acc: 0.9512 - val_loss: 0.3394 - val_acc: 0.8796\n",
      "Epoch 13/20\n",
      "15000/15000 [==============================] - 3s 217us/step - loss: 0.1556 - acc: 0.9571 - val_loss: 0.3804 - val_acc: 0.8832\n",
      "Epoch 14/20\n",
      "15000/15000 [==============================] - 3s 215us/step - loss: 0.1424 - acc: 0.9632 - val_loss: 0.3711 - val_acc: 0.8814\n",
      "Epoch 15/20\n",
      "15000/15000 [==============================] - 3s 222us/step - loss: 0.1350 - acc: 0.9646 - val_loss: 0.4038 - val_acc: 0.8829\n",
      "Epoch 16/20\n",
      "15000/15000 [==============================] - 3s 207us/step - loss: 0.1245 - acc: 0.9690 - val_loss: 0.4118 - val_acc: 0.8794\n",
      "Epoch 17/20\n",
      "15000/15000 [==============================] - 3s 212us/step - loss: 0.1165 - acc: 0.9703 - val_loss: 0.5284 - val_acc: 0.8804\n",
      "Epoch 18/20\n",
      "15000/15000 [==============================] - 3s 222us/step - loss: 0.1146 - acc: 0.9717 - val_loss: 0.4855 - val_acc: 0.8827\n",
      "Epoch 19/20\n",
      "15000/15000 [==============================] - 3s 221us/step - loss: 0.1070 - acc: 0.9715 - val_loss: 0.4876 - val_acc: 0.8828\n",
      "Epoch 20/20\n",
      "15000/15000 [==============================] - 3s 228us/step - loss: 0.1044 - acc: 0.9745 - val_loss: 0.5282 - val_acc: 0.8834\n"
     ]
    }
   ],
   "source": [
    "# 4-8 向IMDB网络中添加dropout\n",
    "model5 = models.Sequential()\n",
    "model5.add(layers.Dense(16,activation = 'relu', input_shape=(10000,)))\n",
    "model5.add(layers.Dropout(0.5))\n",
    "model5.add(layers.Dense(16, activation = 'relu'))\n",
    "model5.add(layers.Dropout(0.5))\n",
    "model5.add(layers.Dense(1, activation = 'sigmoid'))\n",
    "\n",
    "model5.compile(optimizer = 'rmsprop',\n",
    "              loss = 'binary_crossentropy',\n",
    "              metrics = ['accuracy'])\n",
    "\n",
    "history5 = model5.fit(partial_x_train,\n",
    "                   partial_y_train,\n",
    "                   epochs = 20,\n",
    "                   batch_size = 512,\n",
    "                   validation_data = (x_val, y_val))"
   ]
  },
  {
   "cell_type": "code",
   "execution_count": 13,
   "metadata": {
    "collapsed": false
   },
   "outputs": [
    {
     "data": {
      "image/png": "[encoded data removed]",
      "text/plain": [
       "<matplotlib.figure.Figure at 0x172e82aa1d0>"
      ]
     },
     "metadata": {},
     "output_type": "display_data"
    }
   ],
   "source": [
    "history1_dict = history1.history\n",
    "history5_dict = history5.history\n",
    "loss_values = history1_dict['loss']\n",
    "\n",
    "val_loss_values1 = history1_dict['val_loss']\n",
    "val_loss_values5 = history5_dict['val_loss']\n",
    "\n",
    "epochs = range(1, len(loss_values) + 1)\n",
    "\n",
    "plt.plot(epochs, val_loss_values1, '+', label = 'Original model')\n",
    "plt.plot(epochs, val_loss_values5, 'bo', label = 'Dropout')\n",
    "plt.title('Dropout')\n",
    "plt.xlabel('Epochs')\n",
    "plt.ylabel('Validation Loss')\n",
    "plt.legend()\n",
    "plt.show()"
   ]
  },
  {
   "cell_type": "markdown",
   "metadata": {},
   "source": [
    "## 总结常见防止过拟合的方法：\n",
    "获取更多的训练数据  \n",
    "减小网络容量  \n",
    "添加权重正则化  \n",
    "添加dropout"
   ]
  },
  {
   "cell_type": "markdown",
   "metadata": {},
   "source": [
    "## 4.5 机器学习的通用工作流程\n",
    "### 4.5.1 定义问题，收集数据集\n",
    "### 4.5.2 选择衡量成功的标准\n",
    "准确率（precision）  \n",
    "召回率（recall）  \n",
    "ROC/AUC\n",
    "### 4.5.3 确定评估方法\n",
    "留出验证集  \n",
    "K折交叉检验  \n",
    "重复的K折验证  \n",
    "### 4.5.4 准备数据\n",
    "### 4.5.5 开发比基准更好的模型\n",
    "最后一层的激活  \n",
    "损失函数  \n",
    "优化配置\n",
    "### 4.5.6 扩大模型规模：开发过拟合模型\n",
    "添加更多的层  \n",
    "让每一层更大  \n",
    "训练更多的轮次\n",
    "### 4.5.7 模型正则化与调节超参数\n",
    "添加dropout  \n",
    "尝试不同的架构；增加或减少层数  \n",
    "添加L1正则或者L2正则  \n",
    "尝试不同的超参数，如每一层的单元格数或者优化器的学习率  \n",
    "反复做特征工程"
   ]
  },
  {
   "cell_type": "markdown",
   "metadata": {},
   "source": [
    "work：测试L1正则化以及同时L1和L2正则化  \n",
    "regularizers.l1(0.001)  \n",
    "regularizers.l1_l2(l1=0.001, l2=0.001"
   ]
  },
  {
   "cell_type": "code",
   "execution_count": null,
   "metadata": {
    "collapsed": true
   },
   "outputs": [],
   "source": []
  }
 ],
 "metadata": {
  "anaconda-cloud": {},
  "kernelspec": {
   "display_name": "Python [conda root]",
   "language": "python",
   "name": "conda-root-py"
  },
  "language_info": {
   "codemirror_mode": {
    "name": "ipython",
    "version": 3
   },
   "file_extension": ".py",
   "mimetype": "text/x-python",
   "name": "python",
   "nbconvert_exporter": "python",
   "pygments_lexer": "ipython3",
   "version": "3.5.2"
  }
 },
 "nbformat": 4,
 "nbformat_minor": 1
}
